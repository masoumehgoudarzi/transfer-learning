{
  "cells": [
    {
      "cell_type": "markdown",
      "metadata": {
        "id": "IWMWW8Ab_345"
      },
      "source": [
        "# (Optional) Colab Setup\n",
        "If you aren't using Colab, you can delete the following code cell. This is just to help students with mounting to Google Drive to access the other .py files and downloading the data, which is a little trickier on Colab than on your local machine using Jupyter. "
      ]
    },
    {
      "cell_type": "code",
      "execution_count": 1,
      "metadata": {
        "id": "vH4wc4iD_6w_",
        "colab": {
          "base_uri": "https://localhost:8080/"
        },
        "outputId": "69e06146-64bb-402c-9062-81a333e229c3"
      },
      "outputs": [
        {
          "output_type": "stream",
          "name": "stdout",
          "text": [
            "Mounted at /content/drive\n"
          ]
        }
      ],
      "source": [
        "# you will be prompted with a window asking to grant permissions\n",
        "from google.colab import drive\n",
        "drive.mount(\"/content/drive\")"
      ]
    },
    {
      "cell_type": "code",
      "execution_count": 2,
      "metadata": {
        "id": "XpNsPHZc_879",
        "colab": {
          "base_uri": "https://localhost:8080/"
        },
        "outputId": "38251a5c-1bdd-4249-a387-fe92fc43800c"
      },
      "outputs": [
        {
          "output_type": "stream",
          "name": "stdout",
          "text": [
            "/content/drive/MyDrive/exam/cifar-10-batches-py\n"
          ]
        }
      ],
      "source": [
        "# fill in the path in your Google Drive in the string below. Note: do not escape slashes or spaces\n",
        "\n",
        "import os\n",
        "datadir = \"/content/Exam\"\n",
        "if not os.path.exists(datadir):\n",
        "  !ln -s \"/content/drive/MyDrive/exam/cifar-10-batches-py\" $datadir # TODO: Fill your A3 path\n",
        "os.chdir(datadir)\n",
        "!pwd"
      ]
    },
    {
      "cell_type": "markdown",
      "metadata": {
        "id": "Um5DJvBwb6xT"
      },
      "source": [
        "#Data Setup\n",
        "\n",
        "The first thing to do is implement a dataset class to load rotated CIFAR10 images with matching labels. Since there is already a CIFAR10 dataset class implemented in `torchvision`, we will extend this class and modify the `__get_item__` method appropriately to load rotated images.\n",
        "\n",
        "Each rotation label should be an integer in the set {0, 1, 2, 3} which correspond to rotations of 0, 90, 180, or 270 degrees respectively."
      ]
    },
    {
      "cell_type": "code",
      "execution_count": 13,
      "metadata": {
        "id": "oHkeNUOKiFbP"
      },
      "outputs": [],
      "source": [
        "import torch\n",
        "import torchvision\n",
        "import torchvision.transforms as transforms\n",
        "import numpy as np\n",
        "import random\n",
        "from PIL import Image\n",
        "\n",
        "def rotate_img(img, rot):\n",
        "    if rot == 0: # 0 degrees rotation\n",
        "        return img\n",
        "    # TODO: Implement rotate_img() - return the rotated img\n",
        "    elif rot == 1: # 90 degrees rotation\n",
        "        return torch.rot90(img, k=1, dims=(1, 2))\n",
        "    elif rot == 2: # 180 degrees rotation\n",
        "        return torch.rot90(img, k=2, dims=(1, 2))\n",
        "    elif rot == 3: # 270 degrees rotation\n",
        "        return torch.rot90(img, k=3, dims=(1, 2))\n",
        "    else:\n",
        "        raise ValueError('rotation should be 0, 90, 180, or 270 degrees')\n",
        "\n",
        "# def rotate_img(img, rotation_label):\n",
        "#     pil_img = transforms.ToPILImage()(img)\n",
        "#     if rotation_label == 1:\n",
        "#         angle = 90\n",
        "#     elif rotation_label == 2:\n",
        "#         angle = 180\n",
        "#     elif rotation_label == 3:\n",
        "#         angle = 270\n",
        "#     else:\n",
        "#         angle = 0\n",
        "#     rotated_img = pil_img.rotate(angle, resample=Image.BICUBIC)\n",
        "#     return transforms.ToTensor()(rotated_img)\n",
        "\n",
        "\n",
        "class CIFAR10Rotation(torchvision.datasets.CIFAR10):\n",
        "\n",
        "    def __init__(self, root, train, download, transform) -> None:\n",
        "        super().__init__(root=root, train=train, download=download, transform=transform)\n",
        "    \n",
        "    def __len__(self):\n",
        "        return len(self.data)\n",
        "    \n",
        "    def __getitem__(self, index: int):\n",
        "        image, cls_label = super().__getitem__(index)\n",
        "\n",
        "        # randomly select image rotation\n",
        "        rotation_label = random.choice([0, 1, 2, 3])\n",
        "        image_rotated = rotate_img(image, rotation_label)\n",
        "\n",
        "        rotation_label = torch.tensor(rotation_label).long()#*90\n",
        "        return image, image_rotated, rotation_label, torch.tensor(cls_label).long()"
      ]
    },
    {
      "cell_type": "code",
      "execution_count": 14,
      "metadata": {
        "id": "CCBSpNWpb8uw",
        "colab": {
          "base_uri": "https://localhost:8080/"
        },
        "outputId": "b5d9bf0d-57de-4c1d-bdfe-8480a5cc2bf5"
      },
      "outputs": [
        {
          "output_type": "stream",
          "name": "stdout",
          "text": [
            "Files already downloaded and verified\n",
            "Files already downloaded and verified\n"
          ]
        }
      ],
      "source": [
        "from torch.utils.data import DataLoader, Subset\n",
        "transform_train = transforms.Compose([\n",
        "    transforms.RandomCrop(32, padding=4),\n",
        "    transforms.RandomHorizontalFlip(),\n",
        "    transforms.ToTensor(),\n",
        "    transforms.Normalize((0.4914, 0.4822, 0.4465), (0.2023, 0.1994, 0.2010)),\n",
        "])\n",
        "\n",
        "transform_test = transforms.Compose([\n",
        "    transforms.ToTensor(),\n",
        "    transforms.Normalize((0.4914, 0.4822, 0.4465), (0.2023, 0.1994, 0.2010)),\n",
        "])\n",
        "\n",
        "batch_size = 128\n",
        "\n",
        "trainset = CIFAR10Rotation(root='/content/drive/MyDrive/exam/cifar-10-batches-py', train=True,\n",
        "                                        download=True, transform=transform_train)\n",
        "\n",
        "trainloader = torch.utils.data.DataLoader(trainset, batch_size=batch_size,\n",
        "                                          shuffle=True, num_workers=2)\n",
        "\n",
        "testset = CIFAR10Rotation(root='/content/drive/MyDrive/exam/cifar-10-batches-py', train=False,\n",
        "                                       download=True, transform=transform_test)\n",
        "testloader = torch.utils.data.DataLoader(testset, batch_size=batch_size,\n",
        "                                         shuffle=False, num_workers=2)"
      ]
    },
    {
      "cell_type": "markdown",
      "metadata": {
        "id": "dOCWMyGhVOJB"
      },
      "source": [
        "Show some example images and rotated images with labels:"
      ]
    },
    {
      "cell_type": "code",
      "execution_count": 15,
      "metadata": {
        "id": "A9wN4BJWVMzB",
        "colab": {
          "base_uri": "https://localhost:8080/",
          "height": 448
        },
        "outputId": "0b2b2c2c-7c4c-4a6f-cf4e-e14c97658a9d"
      },
      "outputs": [
        {
          "output_type": "stream",
          "name": "stderr",
          "text": [
            "WARNING:matplotlib.image:Clipping input data to the valid range for imshow with RGB data ([0..1] for floats or [0..255] for integers).\n"
          ]
        },
        {
          "output_type": "display_data",
          "data": {
            "text/plain": [
              "<Figure size 640x480 with 1 Axes>"
            ],
            "image/png": "[encoded data removed]"
          },
          "metadata": {}
        },
        {
          "output_type": "stream",
          "name": "stderr",
          "text": [
            "WARNING:matplotlib.image:Clipping input data to the valid range for imshow with RGB data ([0..1] for floats or [0..255] for integers).\n"
          ]
        },
        {
          "output_type": "stream",
          "name": "stdout",
          "text": [
            "Class labels:  frog  deer  car   plane\n"
          ]
        },
        {
          "output_type": "display_data",
          "data": {
            "text/plain": [
              "<Figure size 640x480 with 1 Axes>"
            ],
            "image/png": "[encoded data removed]"
          },
          "metadata": {}
        },
        {
          "output_type": "stream",
          "name": "stdout",
          "text": [
            "Rotation labels:  90    270   90    270  \n"
          ]
        }
      ],
      "source": [
        "import matplotlib.pyplot as plt\n",
        "\n",
        "classes = ('plane', 'car', 'bird', 'cat',\n",
        "           'deer', 'dog', 'frog', 'horse', 'ship', 'truck')\n",
        "\n",
        "rot_classes = ('0', '90', '180', '270')\n",
        "\n",
        "\n",
        "def imshow(img):\n",
        "    # unnormalize\n",
        "    img = transforms.Normalize((0, 0, 0), (1/0.2023, 1/0.1994, 1/0.2010))(img)\n",
        "    img = transforms.Normalize((-0.4914, -0.4822, -0.4465), (1, 1, 1))(img)\n",
        "    npimg = img.numpy()\n",
        "    plt.imshow(np.transpose(npimg, (1, 2, 0)))\n",
        "    plt.show()\n",
        "\n",
        "\n",
        "dataiter = iter(trainloader)\n",
        "images, rot_images, rot_labels, labels = next(dataiter)\n",
        "\n",
        "# print images and rotated images\n",
        "img_grid = imshow(torchvision.utils.make_grid(images[:4], padding=0))\n",
        "print('Class labels: ', ' '.join(f'{classes[labels[j]]:5s}' for j in range(4)))\n",
        "img_grid = imshow(torchvision.utils.make_grid(rot_images[:4], padding=0))\n",
        "print('Rotation labels: ', ' '.join(f'{rot_classes[rot_labels[j]]:5s}' for j in range(4)))"
      ]
    },
    {
      "cell_type": "markdown",
      "metadata": {
        "id": "unCucbHexG4W"
      },
      "source": [
        "#Evaluation code"
      ]
    },
    {
      "cell_type": "code",
      "execution_count": 20,
      "metadata": {
        "id": "pptQRpqK0rOl"
      },
      "outputs": [],
      "source": [
        "import time\n",
        "\n",
        "def run_test(net, testloader, criterion, task):\n",
        "    correct = 0\n",
        "    total = 0\n",
        "    avg_test_loss = 0.0\n",
        "    # since we're not training, we don't need to calculate the gradients for our outputs\n",
        "    with torch.no_grad():\n",
        "        for images, images_rotated, labels, cls_labels in testloader:\n",
        "            if task == 'rotation':\n",
        "              images, labels = images_rotated.to(device), labels.to(device)\n",
        "            elif task == 'classification':\n",
        "              images, labels = images.to(device), cls_labels.to(device)\n",
        "           \n",
        "            # Calculate outputs by running images through the network\n",
        "            outputs = net(images)\n",
        "            # The class with the highest energy is what we choose as prediction\n",
        "            _, predicted = torch.max(outputs.data, 1)\n",
        "            total += labels.size(0)\n",
        "            correct += (predicted == labels).sum().item()\n",
        "\n",
        "\n",
        "            # loss\n",
        "            avg_test_loss += criterion(outputs, labels)  / len(testloader)\n",
        "    print('TESTING:')\n",
        "    print(f'Accuracy of the network on the 10000 test images: {100 * correct / total:.2f} %')\n",
        "    print(f'Average loss on the 10000 test images: {avg_test_loss:.3f}')\n",
        "    return 100 * correct / total, avg_test_loss"
      ]
    },
    {
      "cell_type": "code",
      "execution_count": 21,
      "metadata": {
        "id": "hf698c16A9k5"
      },
      "outputs": [],
      "source": [
        "def adjust_learning_rate(optimizer, epoch, init_lr, decay_epochs=30):\n",
        "    \"\"\"Sets the learning rate to the initial LR decayed by 10 every 30 epochs\"\"\"\n",
        "    lr = init_lr * (0.1 ** (epoch // decay_epochs))\n",
        "    for param_group in optimizer.param_groups:\n",
        "        param_group['lr'] = lr"
      ]
    },
    {
      "cell_type": "markdown",
      "metadata": {
        "id": "3lYdnb1Wsta_"
      },
      "source": [
        "#Train a ResNet18 on the rotation task\n",
        "\n",
        "In this section, we will train a ResNet18 model on the rotation task. The input is a rotated image and the model predicts the rotation label. See the Data Setup section for details."
      ]
    },
    {
      "cell_type": "code",
      "execution_count": 22,
      "metadata": {
        "id": "knAiwdURvBHk",
        "colab": {
          "base_uri": "https://localhost:8080/",
          "height": 35
        },
        "outputId": "5d510b3e-e45a-4cf9-ed73-f359967a1dfb"
      },
      "outputs": [
        {
          "output_type": "execute_result",
          "data": {
            "text/plain": [
              "'cuda'"
            ],
            "application/vnd.google.colaboratory.intrinsic+json": {
              "type": "string"
            }
          },
          "metadata": {},
          "execution_count": 22
        }
      ],
      "source": [
        "device = 'cuda' if torch.cuda.is_available() else 'cpu'\n",
        "device"
      ]
    },
    {
      "cell_type": "code",
      "execution_count": 23,
      "metadata": {
        "id": "235MEIUgsv65"
      },
      "outputs": [],
      "source": [
        "import torch.nn as nn\n",
        "import torch.nn.functional as F\n",
        "\n",
        "from torchvision.models import resnet18\n",
        "\n",
        "net = resnet18()\n"
      ]
    },
    {
      "cell_type": "code",
      "execution_count": 24,
      "metadata": {
        "id": "Vuhiw0ZoszAd"
      },
      "outputs": [],
      "source": [
        "import torch.optim as optim\n",
        "criterion = nn.CrossEntropyLoss()\n",
        "optimizer = optim.SGD(net.parameters(), lr=0.001, momentum=0.9,weight_decay=5e-4)\n"
      ]
    },
    {
      "cell_type": "code",
      "execution_count": 25,
      "metadata": {
        "id": "WleH-YBgs0rq"
      },
      "outputs": [],
      "source": [
        "# Both the self-supervised rotation task and supervised CIFAR10 classification are\n",
        "# trained with the CrossEntropyLoss, so we can use the training loop code.\n",
        "\n",
        "def train(net, criterion, optimizer, num_epochs, decay_epochs, init_lr, task):\n",
        "    device = torch.device(\"cuda\" if torch.cuda.is_available() else \"cpu\")\n",
        "    net.to(device)\n",
        "    \n",
        "    for epoch in range(num_epochs):  # loop over the dataset multiple times\n",
        "        acc_tot=[]\n",
        "        loss_tot=[]\n",
        "        running_loss = 0.0\n",
        "        running_correct = 0.0\n",
        "        running_total = 0.0\n",
        "        start_time = time.time()\n",
        "\n",
        "        net.train()\n",
        "\n",
        "        for i, (imgs, imgs_rotated, rotation_label, cls_label) in enumerate(trainloader, 0):\n",
        "            adjust_learning_rate(optimizer, epoch, init_lr, decay_epochs)\n",
        "\n",
        "            # TODO: Set the data to the correct device; Different task will use different inputs and labels\n",
        "            if task == 'rotation':\n",
        "              images, labels = imgs_rotated.to(device), rotation_label.to(device)\n",
        "            elif task == 'classification':\n",
        "                images, labels = imgs.to(device), cls_label.to(device)\n",
        "\n",
        "            # Zero the parameter gradients\n",
        "            optimizer.zero_grad()\n",
        "\n",
        "            # Forward + Backward + Optimize\n",
        "            outputs = net(images)\n",
        "            loss = criterion(outputs, labels)\n",
        "            loss.backward()\n",
        "            optimizer.step()\n",
        "\n",
        "            # Get predicted results\n",
        "            _, predicted = torch.max(outputs.data, 1)\n",
        "\n",
        "            # print statistics\n",
        "            print_freq = 100\n",
        "            running_loss += loss.item()\n",
        "\n",
        "            # calc acc\n",
        "            running_total += labels.size(0)\n",
        "            running_correct += (predicted == labels).sum().item()\n",
        "\n",
        "            if i % print_freq == (print_freq - 1):    # print every 2000 mini-batches\n",
        "                print(f'[{epoch + 1}, {i + 1:5d}] loss: {running_loss / print_freq:.3f} acc: {100*running_correct / running_total:.2f} time: {time.time() - start_time:.2f}')\n",
        "                running_loss, running_correct, running_total = 0.0, 0.0, 0.0\n",
        "                start_time = time.time()\n",
        "\n",
        "        # Run the run_test() function after each epoch; Set the model to the evaluation mode.\n",
        "        net.eval()\n",
        "        acc,loss=run_test(net, testloader, criterion, task)\n",
        "        acc_tot.append(acc)\n",
        "        loss_tot.append(loss)\n",
        "\n",
        "    print('maximum accuracy is: ',max(acc_tot))\n",
        "    print('minimum loss is: ',min(loss_tot))\n",
        "    print('Finished Training')"
      ]
    },
    {
      "cell_type": "code",
      "execution_count": 26,
      "metadata": {
        "id": "2u4AsfAKtaQS",
        "colab": {
          "base_uri": "https://localhost:8080/"
        },
        "outputId": "3196e2f0-cd63-4ceb-d3d1-67a10eab8c3b"
      },
      "outputs": [
        {
          "output_type": "stream",
          "name": "stdout",
          "text": [
            "[1,   100] loss: 1.567 acc: 36.42 time: 7.68\n",
            "[1,   200] loss: 1.223 acc: 45.52 time: 5.93\n",
            "[1,   300] loss: 1.148 acc: 49.95 time: 6.52\n",
            "TESTING:\n",
            "Accuracy of the network on the 10000 test images: 53.06 %\n",
            "Average loss on the 10000 test images: 1.073\n",
            "[2,   100] loss: 1.104 acc: 52.51 time: 7.84\n",
            "[2,   200] loss: 1.090 acc: 53.21 time: 5.76\n",
            "[2,   300] loss: 1.061 acc: 54.52 time: 6.79\n",
            "TESTING:\n",
            "Accuracy of the network on the 10000 test images: 56.12 %\n",
            "Average loss on the 10000 test images: 1.067\n",
            "[3,   100] loss: 1.037 acc: 55.91 time: 7.54\n",
            "[3,   200] loss: 1.026 acc: 56.62 time: 5.69\n",
            "[3,   300] loss: 1.026 acc: 56.10 time: 7.06\n",
            "TESTING:\n",
            "Accuracy of the network on the 10000 test images: 59.95 %\n",
            "Average loss on the 10000 test images: 0.950\n",
            "[4,   100] loss: 0.992 acc: 57.93 time: 7.70\n",
            "[4,   200] loss: 0.992 acc: 57.93 time: 5.78\n",
            "[4,   300] loss: 0.975 acc: 58.71 time: 7.48\n",
            "TESTING:\n",
            "Accuracy of the network on the 10000 test images: 60.39 %\n",
            "Average loss on the 10000 test images: 0.961\n",
            "[5,   100] loss: 0.959 acc: 59.71 time: 8.59\n",
            "[5,   200] loss: 0.947 acc: 60.17 time: 5.90\n",
            "[5,   300] loss: 0.928 acc: 61.04 time: 7.56\n",
            "TESTING:\n",
            "Accuracy of the network on the 10000 test images: 63.09 %\n",
            "Average loss on the 10000 test images: 0.897\n",
            "[6,   100] loss: 0.929 acc: 61.53 time: 7.48\n",
            "[6,   200] loss: 0.906 acc: 62.54 time: 5.81\n",
            "[6,   300] loss: 0.905 acc: 62.20 time: 7.67\n",
            "TESTING:\n",
            "Accuracy of the network on the 10000 test images: 64.27 %\n",
            "Average loss on the 10000 test images: 0.861\n",
            "[7,   100] loss: 0.906 acc: 62.35 time: 6.89\n",
            "[7,   200] loss: 0.886 acc: 63.17 time: 6.41\n",
            "[7,   300] loss: 0.899 acc: 62.87 time: 7.00\n",
            "TESTING:\n",
            "Accuracy of the network on the 10000 test images: 64.22 %\n",
            "Average loss on the 10000 test images: 0.868\n",
            "[8,   100] loss: 0.877 acc: 63.73 time: 6.22\n",
            "[8,   200] loss: 0.881 acc: 63.48 time: 6.77\n",
            "[8,   300] loss: 0.862 acc: 64.63 time: 6.58\n",
            "TESTING:\n",
            "Accuracy of the network on the 10000 test images: 65.71 %\n",
            "Average loss on the 10000 test images: 0.822\n",
            "[9,   100] loss: 0.859 acc: 64.62 time: 6.07\n",
            "[9,   200] loss: 0.861 acc: 64.54 time: 7.67\n",
            "[9,   300] loss: 0.853 acc: 64.77 time: 5.79\n",
            "TESTING:\n",
            "Accuracy of the network on the 10000 test images: 66.02 %\n",
            "Average loss on the 10000 test images: 0.821\n",
            "[10,   100] loss: 0.835 acc: 65.56 time: 6.06\n",
            "[10,   200] loss: 0.842 acc: 65.64 time: 7.43\n",
            "[10,   300] loss: 0.837 acc: 65.12 time: 5.80\n",
            "TESTING:\n",
            "Accuracy of the network on the 10000 test images: 66.70 %\n",
            "Average loss on the 10000 test images: 0.808\n",
            "[11,   100] loss: 0.830 acc: 66.08 time: 6.00\n",
            "[11,   200] loss: 0.822 acc: 66.67 time: 7.48\n",
            "[11,   300] loss: 0.836 acc: 65.72 time: 5.91\n",
            "TESTING:\n",
            "Accuracy of the network on the 10000 test images: 68.41 %\n",
            "Average loss on the 10000 test images: 0.776\n",
            "[12,   100] loss: 0.816 acc: 66.83 time: 5.96\n",
            "[12,   200] loss: 0.813 acc: 66.88 time: 7.43\n",
            "[12,   300] loss: 0.803 acc: 67.23 time: 5.83\n",
            "TESTING:\n",
            "Accuracy of the network on the 10000 test images: 68.33 %\n",
            "Average loss on the 10000 test images: 0.779\n",
            "[13,   100] loss: 0.806 acc: 67.11 time: 6.15\n",
            "[13,   200] loss: 0.794 acc: 68.07 time: 7.22\n",
            "[13,   300] loss: 0.791 acc: 68.00 time: 5.80\n",
            "TESTING:\n",
            "Accuracy of the network on the 10000 test images: 68.80 %\n",
            "Average loss on the 10000 test images: 0.777\n",
            "[14,   100] loss: 0.784 acc: 68.04 time: 6.40\n",
            "[14,   200] loss: 0.776 acc: 68.11 time: 7.10\n",
            "[14,   300] loss: 0.783 acc: 68.44 time: 5.87\n",
            "TESTING:\n",
            "Accuracy of the network on the 10000 test images: 68.69 %\n",
            "Average loss on the 10000 test images: 0.758\n",
            "[15,   100] loss: 0.777 acc: 68.30 time: 6.95\n",
            "[15,   200] loss: 0.765 acc: 69.12 time: 6.38\n",
            "[15,   300] loss: 0.780 acc: 68.49 time: 6.28\n",
            "TESTING:\n",
            "Accuracy of the network on the 10000 test images: 70.31 %\n",
            "Average loss on the 10000 test images: 0.729\n",
            "[16,   100] loss: 0.743 acc: 69.70 time: 7.42\n",
            "[16,   200] loss: 0.706 acc: 71.60 time: 6.11\n",
            "[16,   300] loss: 0.710 acc: 72.04 time: 6.63\n",
            "TESTING:\n",
            "Accuracy of the network on the 10000 test images: 73.15 %\n",
            "Average loss on the 10000 test images: 0.682\n",
            "[17,   100] loss: 0.691 acc: 72.00 time: 7.72\n",
            "[17,   200] loss: 0.700 acc: 72.15 time: 5.79\n",
            "[17,   300] loss: 0.706 acc: 71.90 time: 6.95\n",
            "TESTING:\n",
            "Accuracy of the network on the 10000 test images: 73.50 %\n",
            "Average loss on the 10000 test images: 0.667\n",
            "[18,   100] loss: 0.698 acc: 72.25 time: 7.67\n",
            "[18,   200] loss: 0.687 acc: 72.38 time: 5.89\n",
            "[18,   300] loss: 0.703 acc: 71.90 time: 7.56\n",
            "TESTING:\n",
            "Accuracy of the network on the 10000 test images: 73.39 %\n",
            "Average loss on the 10000 test images: 0.666\n",
            "[19,   100] loss: 0.677 acc: 73.00 time: 8.78\n",
            "[19,   200] loss: 0.684 acc: 72.02 time: 5.73\n",
            "[19,   300] loss: 0.689 acc: 72.21 time: 7.50\n",
            "TESTING:\n",
            "Accuracy of the network on the 10000 test images: 74.04 %\n",
            "Average loss on the 10000 test images: 0.656\n",
            "[20,   100] loss: 0.682 acc: 72.17 time: 7.20\n",
            "[20,   200] loss: 0.686 acc: 72.43 time: 5.87\n",
            "[20,   300] loss: 0.669 acc: 73.22 time: 7.42\n",
            "TESTING:\n",
            "Accuracy of the network on the 10000 test images: 73.89 %\n",
            "Average loss on the 10000 test images: 0.650\n",
            "[21,   100] loss: 0.682 acc: 72.65 time: 6.60\n",
            "[21,   200] loss: 0.672 acc: 73.25 time: 6.44\n",
            "[21,   300] loss: 0.680 acc: 73.08 time: 10.23\n",
            "TESTING:\n",
            "Accuracy of the network on the 10000 test images: 74.11 %\n",
            "Average loss on the 10000 test images: 0.644\n",
            "[22,   100] loss: 0.677 acc: 72.91 time: 5.94\n",
            "[22,   200] loss: 0.673 acc: 73.05 time: 7.50\n",
            "[22,   300] loss: 0.674 acc: 73.16 time: 6.17\n",
            "TESTING:\n",
            "Accuracy of the network on the 10000 test images: 74.06 %\n",
            "Average loss on the 10000 test images: 0.653\n",
            "[23,   100] loss: 0.669 acc: 73.48 time: 6.26\n",
            "[23,   200] loss: 0.679 acc: 72.98 time: 8.04\n",
            "[23,   300] loss: 0.680 acc: 72.81 time: 6.18\n",
            "TESTING:\n",
            "Accuracy of the network on the 10000 test images: 74.23 %\n",
            "Average loss on the 10000 test images: 0.646\n",
            "[24,   100] loss: 0.660 acc: 73.91 time: 7.59\n",
            "[24,   200] loss: 0.670 acc: 73.34 time: 6.26\n",
            "[24,   300] loss: 0.666 acc: 73.43 time: 6.93\n",
            "TESTING:\n",
            "Accuracy of the network on the 10000 test images: 74.07 %\n",
            "Average loss on the 10000 test images: 0.645\n",
            "[25,   100] loss: 0.658 acc: 74.09 time: 7.96\n",
            "[25,   200] loss: 0.673 acc: 73.23 time: 5.98\n",
            "[25,   300] loss: 0.657 acc: 73.80 time: 7.79\n",
            "TESTING:\n",
            "Accuracy of the network on the 10000 test images: 74.59 %\n",
            "Average loss on the 10000 test images: 0.642\n",
            "[26,   100] loss: 0.659 acc: 73.71 time: 8.35\n",
            "[26,   200] loss: 0.672 acc: 73.51 time: 5.81\n",
            "[26,   300] loss: 0.650 acc: 74.12 time: 7.66\n",
            "TESTING:\n",
            "Accuracy of the network on the 10000 test images: 74.75 %\n",
            "Average loss on the 10000 test images: 0.635\n",
            "[27,   100] loss: 0.666 acc: 73.71 time: 7.45\n",
            "[27,   200] loss: 0.663 acc: 73.72 time: 5.82\n",
            "[27,   300] loss: 0.658 acc: 73.88 time: 8.04\n",
            "TESTING:\n",
            "Accuracy of the network on the 10000 test images: 74.77 %\n",
            "Average loss on the 10000 test images: 0.636\n",
            "[28,   100] loss: 0.653 acc: 74.18 time: 6.48\n",
            "[28,   200] loss: 0.656 acc: 73.84 time: 6.49\n",
            "[28,   300] loss: 0.656 acc: 73.61 time: 6.92\n",
            "TESTING:\n",
            "Accuracy of the network on the 10000 test images: 75.24 %\n",
            "Average loss on the 10000 test images: 0.629\n",
            "[29,   100] loss: 0.661 acc: 73.86 time: 6.12\n",
            "[29,   200] loss: 0.637 acc: 74.60 time: 7.19\n",
            "[29,   300] loss: 0.661 acc: 73.68 time: 6.25\n",
            "TESTING:\n",
            "Accuracy of the network on the 10000 test images: 74.57 %\n",
            "Average loss on the 10000 test images: 0.633\n",
            "[30,   100] loss: 0.636 acc: 74.62 time: 6.03\n",
            "[30,   200] loss: 0.651 acc: 74.22 time: 7.60\n",
            "[30,   300] loss: 0.661 acc: 73.86 time: 5.83\n",
            "TESTING:\n",
            "Accuracy of the network on the 10000 test images: 74.66 %\n",
            "Average loss on the 10000 test images: 0.631\n",
            "[31,   100] loss: 0.650 acc: 74.30 time: 6.07\n",
            "[31,   200] loss: 0.636 acc: 75.30 time: 7.75\n",
            "[31,   300] loss: 0.637 acc: 75.01 time: 5.79\n",
            "TESTING:\n",
            "Accuracy of the network on the 10000 test images: 75.20 %\n",
            "Average loss on the 10000 test images: 0.619\n",
            "[32,   100] loss: 0.637 acc: 74.77 time: 6.14\n",
            "[32,   200] loss: 0.634 acc: 74.97 time: 7.48\n",
            "[32,   300] loss: 0.634 acc: 75.06 time: 5.89\n",
            "TESTING:\n",
            "Accuracy of the network on the 10000 test images: 75.10 %\n",
            "Average loss on the 10000 test images: 0.621\n",
            "[33,   100] loss: 0.635 acc: 74.42 time: 5.95\n",
            "[33,   200] loss: 0.635 acc: 74.89 time: 7.60\n",
            "[33,   300] loss: 0.635 acc: 75.01 time: 10.01\n",
            "TESTING:\n",
            "Accuracy of the network on the 10000 test images: 75.22 %\n",
            "Average loss on the 10000 test images: 0.620\n",
            "[34,   100] loss: 0.646 acc: 74.30 time: 7.83\n",
            "[34,   200] loss: 0.643 acc: 74.05 time: 6.66\n",
            "[34,   300] loss: 0.630 acc: 75.04 time: 7.65\n",
            "TESTING:\n",
            "Accuracy of the network on the 10000 test images: 75.34 %\n",
            "Average loss on the 10000 test images: 0.617\n",
            "[35,   100] loss: 0.636 acc: 74.52 time: 7.76\n",
            "[35,   200] loss: 0.640 acc: 74.45 time: 5.92\n",
            "[35,   300] loss: 0.627 acc: 75.47 time: 7.63\n",
            "TESTING:\n",
            "Accuracy of the network on the 10000 test images: 75.75 %\n",
            "Average loss on the 10000 test images: 0.616\n",
            "[36,   100] loss: 0.636 acc: 74.95 time: 6.76\n",
            "[36,   200] loss: 0.638 acc: 74.81 time: 6.34\n",
            "[36,   300] loss: 0.625 acc: 75.22 time: 7.10\n",
            "TESTING:\n",
            "Accuracy of the network on the 10000 test images: 75.41 %\n",
            "Average loss on the 10000 test images: 0.612\n",
            "[37,   100] loss: 0.621 acc: 75.55 time: 6.02\n",
            "[37,   200] loss: 0.637 acc: 74.49 time: 7.24\n",
            "[37,   300] loss: 0.642 acc: 74.38 time: 6.04\n",
            "TESTING:\n",
            "Accuracy of the network on the 10000 test images: 75.77 %\n",
            "Average loss on the 10000 test images: 0.613\n",
            "[38,   100] loss: 0.636 acc: 74.84 time: 6.09\n",
            "[38,   200] loss: 0.634 acc: 74.75 time: 7.53\n",
            "[38,   300] loss: 0.632 acc: 74.75 time: 5.72\n",
            "TESTING:\n",
            "Accuracy of the network on the 10000 test images: 75.54 %\n",
            "Average loss on the 10000 test images: 0.615\n",
            "[39,   100] loss: 0.649 acc: 73.95 time: 5.98\n",
            "[39,   200] loss: 0.630 acc: 75.10 time: 7.61\n",
            "[39,   300] loss: 0.631 acc: 75.22 time: 5.79\n",
            "TESTING:\n",
            "Accuracy of the network on the 10000 test images: 75.52 %\n",
            "Average loss on the 10000 test images: 0.611\n",
            "[40,   100] loss: 0.640 acc: 74.91 time: 6.02\n",
            "[40,   200] loss: 0.638 acc: 74.91 time: 7.63\n",
            "[40,   300] loss: 0.625 acc: 75.29 time: 5.73\n",
            "TESTING:\n",
            "Accuracy of the network on the 10000 test images: 75.52 %\n",
            "Average loss on the 10000 test images: 0.615\n",
            "[41,   100] loss: 0.629 acc: 75.09 time: 6.00\n",
            "[41,   200] loss: 0.638 acc: 74.74 time: 7.61\n",
            "[41,   300] loss: 0.632 acc: 74.93 time: 5.83\n",
            "TESTING:\n",
            "Accuracy of the network on the 10000 test images: 75.33 %\n",
            "Average loss on the 10000 test images: 0.612\n",
            "[42,   100] loss: 0.628 acc: 75.22 time: 6.52\n",
            "[42,   200] loss: 0.630 acc: 75.29 time: 7.13\n",
            "[42,   300] loss: 0.625 acc: 75.34 time: 5.86\n",
            "TESTING:\n",
            "Accuracy of the network on the 10000 test images: 75.59 %\n",
            "Average loss on the 10000 test images: 0.621\n",
            "[43,   100] loss: 0.630 acc: 75.04 time: 6.93\n",
            "[43,   200] loss: 0.631 acc: 75.39 time: 6.49\n",
            "[43,   300] loss: 0.623 acc: 75.62 time: 5.94\n",
            "TESTING:\n",
            "Accuracy of the network on the 10000 test images: 75.40 %\n",
            "Average loss on the 10000 test images: 0.613\n",
            "[44,   100] loss: 0.629 acc: 74.59 time: 7.15\n",
            "[44,   200] loss: 0.630 acc: 75.24 time: 6.52\n",
            "[44,   300] loss: 0.632 acc: 75.23 time: 6.32\n",
            "TESTING:\n",
            "Accuracy of the network on the 10000 test images: 75.27 %\n",
            "Average loss on the 10000 test images: 0.615\n",
            "[45,   100] loss: 0.622 acc: 75.29 time: 7.73\n",
            "[45,   200] loss: 0.631 acc: 75.24 time: 5.86\n",
            "[45,   300] loss: 0.631 acc: 75.09 time: 6.92\n",
            "TESTING:\n",
            "Accuracy of the network on the 10000 test images: 75.38 %\n",
            "Average loss on the 10000 test images: 0.616\n",
            "maximum accuracy is:  75.38\n",
            "minimum loss is:  tensor(0.6163, device='cuda:0')\n",
            "Finished Training\n"
          ]
        }
      ],
      "source": [
        "train(net, criterion, optimizer, num_epochs=45, decay_epochs=15, init_lr=0.01, task='rotation')\n",
        "\n",
        "torch.save(net.state_dict(), 'model.pth')\n"
      ]
    },
    {
      "cell_type": "code",
      "source": [
        "import torch\n",
        "print(torch.__version__)"
      ],
      "metadata": {
        "colab": {
          "base_uri": "https://localhost:8080/"
        },
        "id": "0ninoJC3BrGZ",
        "outputId": "ce66aa36-7b67-4976-a9fe-1f358ddda2d9"
      },
      "execution_count": null,
      "outputs": [
        {
          "output_type": "stream",
          "name": "stdout",
          "text": [
            "2.0.0+cu118\n"
          ]
        }
      ]
    },
    {
      "cell_type": "markdown",
      "metadata": {
        "id": "PLLMRTS9rTnk"
      },
      "source": [
        "##Fine-tuning on the pre-trained model\n",
        "\n",
        "In this section, we will load the pre-trained ResNet18 model and fine-tune on the classification task. We will freeze all previous layers except for the 'layer4' block and 'fc' layer."
      ]
    },
    {
      "cell_type": "code",
      "execution_count": 27,
      "metadata": {
        "id": "S4nX4ExlrymI",
        "colab": {
          "base_uri": "https://localhost:8080/"
        },
        "outputId": "ea2bcaff-f340-42dc-9499-7e3421d4e602"
      },
      "outputs": [
        {
          "output_type": "execute_result",
          "data": {
            "text/plain": [
              "<All keys matched successfully>"
            ]
          },
          "metadata": {},
          "execution_count": 27
        }
      ],
      "source": [
        "import torch.nn as nn\n",
        "import torch.nn.functional as F\n",
        "\n",
        "from torchvision.models import resnet18\n",
        "\n",
        "# TODO: Define your ResNet18 model\n",
        "model =resnet18()\n",
        "# num_classes = 1000 # replace with the number of output classes\n",
        "# num_ftrs = model.fc.in_features\n",
        "# model.fc = nn.Linear(num_ftrs, num_classes)\n",
        "# Load the saved model weights\n",
        "model.load_state_dict(torch.load('model.pth'))"
      ]
    },
    {
      "cell_type": "code",
      "source": [
        "device = 'cuda' if torch.cuda.is_available() else 'cpu'\n",
        "device"
      ],
      "metadata": {
        "colab": {
          "base_uri": "https://localhost:8080/",
          "height": 35
        },
        "id": "nKaagjP9tzMy",
        "outputId": "07acf8d1-bc8e-42d5-bdd3-4e7bc46dd9a2"
      },
      "execution_count": 31,
      "outputs": [
        {
          "output_type": "execute_result",
          "data": {
            "text/plain": [
              "'cuda'"
            ],
            "application/vnd.google.colaboratory.intrinsic+json": {
              "type": "string"
            }
          },
          "metadata": {},
          "execution_count": 31
        }
      ]
    },
    {
      "cell_type": "code",
      "source": [
        "import os\n",
        "os.environ['TORCH_USE_CUDA_DSA'] = '1'"
      ],
      "metadata": {
        "id": "11NOMpO7voXk"
      },
      "execution_count": null,
      "outputs": []
    },
    {
      "cell_type": "code",
      "source": [
        "CUDA_LAUNCH_BLOCKING=1"
      ],
      "metadata": {
        "id": "d1XAwbDbvuSt"
      },
      "execution_count": null,
      "outputs": []
    },
    {
      "cell_type": "code",
      "source": [
        "torch.autograd.detect_anomaly()"
      ],
      "metadata": {
        "colab": {
          "base_uri": "https://localhost:8080/"
        },
        "id": "M5uRcXkY55EC",
        "outputId": "7aa3b4ae-deb2-4a35-e1ff-a299f7d8530f"
      },
      "execution_count": null,
      "outputs": [
        {
          "output_type": "stream",
          "name": "stderr",
          "text": [
            "<ipython-input-20-7da50de8c1ba>:1: UserWarning: Anomaly Detection has been enabled. This mode will increase the runtime and should only be enabled for debugging.\n",
            "  torch.autograd.detect_anomaly()\n"
          ]
        },
        {
          "output_type": "execute_result",
          "data": {
            "text/plain": [
              "<torch.autograd.anomaly_mode.detect_anomaly at 0x7f6658b76670>"
            ]
          },
          "metadata": {},
          "execution_count": 20
        }
      ]
    },
    {
      "cell_type": "code",
      "execution_count": 32,
      "metadata": {
        "id": "kD44g-TxwYdU"
      },
      "outputs": [],
      "source": [
        "# TODO: Freeze all previous layers; only keep the 'layer4' block and 'fc' layer trainable\n",
        "for name, param in model.named_parameters():\n",
        "    if 'layer4' in name or 'fc' in name:\n",
        "        param.requires_grad = True\n",
        "    else:\n",
        "        param.requires_grad = False"
      ]
    },
    {
      "cell_type": "code",
      "execution_count": 33,
      "metadata": {
        "id": "9T5DX0efr4fh",
        "colab": {
          "base_uri": "https://localhost:8080/"
        },
        "outputId": "e755928b-a7f4-4985-a364-a4fbbc70ad56"
      },
      "outputs": [
        {
          "output_type": "stream",
          "name": "stdout",
          "text": [
            "Params to learn:\n",
            "\t layer4.0.conv1.weight\n",
            "\t layer4.0.bn1.weight\n",
            "\t layer4.0.bn1.bias\n",
            "\t layer4.0.conv2.weight\n",
            "\t layer4.0.bn2.weight\n",
            "\t layer4.0.bn2.bias\n",
            "\t layer4.0.downsample.0.weight\n",
            "\t layer4.0.downsample.1.weight\n",
            "\t layer4.0.downsample.1.bias\n",
            "\t layer4.1.conv1.weight\n",
            "\t layer4.1.bn1.weight\n",
            "\t layer4.1.bn1.bias\n",
            "\t layer4.1.conv2.weight\n",
            "\t layer4.1.bn2.weight\n",
            "\t layer4.1.bn2.bias\n",
            "\t fc.weight\n",
            "\t fc.bias\n"
          ]
        }
      ],
      "source": [
        "# Print all the trainable parameters\n",
        "params_to_update = model.parameters()\n",
        "print(\"Params to learn:\")\n",
        "params_to_update = []\n",
        "for name,param in model.named_parameters():\n",
        "    if param.requires_grad == True:\n",
        "        params_to_update.append(param)\n",
        "        print(\"\\t\",name)"
      ]
    },
    {
      "cell_type": "code",
      "execution_count": 34,
      "metadata": {
        "id": "xb032dG700ph"
      },
      "outputs": [],
      "source": [
        "# TODO: Define criterion and optimizer\n",
        "import torch.optim as optim\n",
        "\n",
        "# Define the criterion (loss function)\n",
        "criterion = nn.CrossEntropyLoss()\n",
        "\n",
        "# Define the optimizer; Only update the parameters that are trainable\n",
        "optimizer = optim.SGD(filter(lambda p: p.requires_grad, model.parameters()), \n",
        "                      lr=0.001, momentum=0.9)\n"
      ]
    },
    {
      "cell_type": "code",
      "execution_count": 35,
      "metadata": {
        "id": "3vLSwOo6sBjl",
        "colab": {
          "base_uri": "https://localhost:8080/"
        },
        "outputId": "aa3c1776-8d56-422b-d265-b02dda1cda23"
      },
      "outputs": [
        {
          "output_type": "stream",
          "name": "stdout",
          "text": [
            "[1,   100] loss: 2.767 acc: 34.14 time: 7.23\n",
            "[1,   200] loss: 1.408 acc: 48.69 time: 5.31\n",
            "[1,   300] loss: 1.350 acc: 50.42 time: 5.64\n",
            "TESTING:\n",
            "Accuracy of the network on the 10000 test images: 53.66 %\n",
            "Average loss on the 10000 test images: 1.279\n",
            "[2,   100] loss: 1.275 acc: 53.62 time: 6.38\n",
            "[2,   200] loss: 1.272 acc: 53.70 time: 6.20\n",
            "[2,   300] loss: 1.234 acc: 55.42 time: 5.27\n",
            "TESTING:\n",
            "Accuracy of the network on the 10000 test images: 56.89 %\n",
            "Average loss on the 10000 test images: 1.192\n",
            "[3,   100] loss: 1.203 acc: 56.84 time: 5.57\n",
            "[3,   200] loss: 1.206 acc: 56.51 time: 6.96\n",
            "[3,   300] loss: 1.182 acc: 57.13 time: 5.34\n",
            "TESTING:\n",
            "Accuracy of the network on the 10000 test images: 58.31 %\n",
            "Average loss on the 10000 test images: 1.148\n",
            "[4,   100] loss: 1.163 acc: 58.34 time: 5.47\n",
            "[4,   200] loss: 1.174 acc: 57.83 time: 6.95\n",
            "[4,   300] loss: 1.160 acc: 58.53 time: 5.21\n",
            "TESTING:\n",
            "Accuracy of the network on the 10000 test images: 59.93 %\n",
            "Average loss on the 10000 test images: 1.100\n",
            "[5,   100] loss: 1.131 acc: 59.42 time: 5.57\n",
            "[5,   200] loss: 1.128 acc: 59.04 time: 6.87\n",
            "[5,   300] loss: 1.136 acc: 59.16 time: 5.43\n",
            "TESTING:\n",
            "Accuracy of the network on the 10000 test images: 60.96 %\n",
            "Average loss on the 10000 test images: 1.096\n",
            "[6,   100] loss: 1.101 acc: 60.38 time: 5.38\n",
            "[6,   200] loss: 1.109 acc: 60.09 time: 6.73\n",
            "[6,   300] loss: 1.089 acc: 60.56 time: 5.46\n",
            "TESTING:\n",
            "Accuracy of the network on the 10000 test images: 61.64 %\n",
            "Average loss on the 10000 test images: 1.077\n",
            "[7,   100] loss: 1.087 acc: 61.38 time: 5.41\n",
            "[7,   200] loss: 1.085 acc: 60.84 time: 5.98\n",
            "[7,   300] loss: 1.096 acc: 60.64 time: 6.12\n",
            "TESTING:\n",
            "Accuracy of the network on the 10000 test images: 62.85 %\n",
            "Average loss on the 10000 test images: 1.053\n",
            "[8,   100] loss: 1.079 acc: 61.50 time: 5.98\n",
            "[8,   200] loss: 1.064 acc: 61.30 time: 5.48\n",
            "[8,   300] loss: 1.061 acc: 61.48 time: 6.81\n",
            "TESTING:\n",
            "Accuracy of the network on the 10000 test images: 61.96 %\n",
            "Average loss on the 10000 test images: 1.053\n",
            "[9,   100] loss: 1.052 acc: 61.77 time: 6.65\n",
            "[9,   200] loss: 1.060 acc: 62.27 time: 5.16\n",
            "[9,   300] loss: 1.064 acc: 61.92 time: 6.97\n",
            "TESTING:\n",
            "Accuracy of the network on the 10000 test images: 62.43 %\n",
            "Average loss on the 10000 test images: 1.058\n",
            "[10,   100] loss: 1.038 acc: 62.73 time: 7.07\n",
            "[10,   200] loss: 1.034 acc: 62.87 time: 5.30\n",
            "[10,   300] loss: 1.042 acc: 62.34 time: 6.95\n",
            "TESTING:\n",
            "Accuracy of the network on the 10000 test images: 63.63 %\n",
            "Average loss on the 10000 test images: 1.019\n",
            "[11,   100] loss: 0.976 acc: 64.98 time: 7.07\n",
            "[11,   200] loss: 0.990 acc: 63.89 time: 5.29\n",
            "[11,   300] loss: 0.977 acc: 65.70 time: 6.59\n",
            "TESTING:\n",
            "Accuracy of the network on the 10000 test images: 65.16 %\n",
            "Average loss on the 10000 test images: 0.988\n",
            "[12,   100] loss: 0.980 acc: 65.04 time: 7.14\n",
            "[12,   200] loss: 0.972 acc: 64.98 time: 5.31\n",
            "[12,   300] loss: 0.967 acc: 65.34 time: 5.54\n",
            "TESTING:\n",
            "Accuracy of the network on the 10000 test images: 65.28 %\n",
            "Average loss on the 10000 test images: 0.980\n",
            "[13,   100] loss: 0.945 acc: 66.11 time: 6.36\n",
            "[13,   200] loss: 0.952 acc: 65.42 time: 5.98\n",
            "[13,   300] loss: 0.956 acc: 66.04 time: 5.18\n",
            "TESTING:\n",
            "Accuracy of the network on the 10000 test images: 65.41 %\n",
            "Average loss on the 10000 test images: 0.979\n",
            "[14,   100] loss: 0.940 acc: 66.69 time: 5.38\n",
            "[14,   200] loss: 0.950 acc: 65.66 time: 6.92\n",
            "[14,   300] loss: 0.945 acc: 65.59 time: 5.40\n",
            "TESTING:\n",
            "Accuracy of the network on the 10000 test images: 65.44 %\n",
            "Average loss on the 10000 test images: 0.973\n",
            "[15,   100] loss: 0.928 acc: 66.93 time: 5.55\n",
            "[15,   200] loss: 0.942 acc: 66.00 time: 7.02\n",
            "[15,   300] loss: 0.939 acc: 66.44 time: 5.25\n",
            "TESTING:\n",
            "Accuracy of the network on the 10000 test images: 65.70 %\n",
            "Average loss on the 10000 test images: 0.976\n",
            "[16,   100] loss: 0.918 acc: 67.14 time: 5.48\n",
            "[16,   200] loss: 0.937 acc: 66.37 time: 7.06\n",
            "[16,   300] loss: 0.950 acc: 65.70 time: 5.19\n",
            "TESTING:\n",
            "Accuracy of the network on the 10000 test images: 65.88 %\n",
            "Average loss on the 10000 test images: 0.970\n",
            "[17,   100] loss: 0.922 acc: 66.55 time: 5.60\n",
            "[17,   200] loss: 0.924 acc: 67.11 time: 6.97\n",
            "[17,   300] loss: 0.941 acc: 66.10 time: 5.31\n",
            "TESTING:\n",
            "Accuracy of the network on the 10000 test images: 65.65 %\n",
            "Average loss on the 10000 test images: 0.973\n",
            "[18,   100] loss: 0.919 acc: 67.04 time: 5.52\n",
            "[18,   200] loss: 0.925 acc: 66.80 time: 6.28\n",
            "[18,   300] loss: 0.928 acc: 67.01 time: 5.95\n",
            "TESTING:\n",
            "Accuracy of the network on the 10000 test images: 65.53 %\n",
            "Average loss on the 10000 test images: 0.970\n",
            "[19,   100] loss: 0.938 acc: 66.48 time: 5.70\n",
            "[19,   200] loss: 0.914 acc: 67.29 time: 5.60\n",
            "[19,   300] loss: 0.926 acc: 66.79 time: 6.64\n",
            "TESTING:\n",
            "Accuracy of the network on the 10000 test images: 66.30 %\n",
            "Average loss on the 10000 test images: 0.962\n",
            "[20,   100] loss: 0.934 acc: 66.18 time: 6.18\n",
            "[20,   200] loss: 0.922 acc: 66.89 time: 5.28\n",
            "[20,   300] loss: 0.915 acc: 67.12 time: 6.96\n",
            "TESTING:\n",
            "Accuracy of the network on the 10000 test images: 66.07 %\n",
            "Average loss on the 10000 test images: 0.965\n",
            "maximum accuracy is:  66.07\n",
            "minimum loss is:  tensor(0.9646, device='cuda:0')\n",
            "Finished Training\n"
          ]
        }
      ],
      "source": [
        "train(model, criterion, optimizer, num_epochs=20, decay_epochs=10, init_lr=0.01,\n",
        "      task='classification')\n"
      ]
    },
    {
      "cell_type": "markdown",
      "metadata": {
        "id": "ghPNhcJBrcNj"
      },
      "source": [
        "## Fine-tuning on the randomly initialized model\n",
        "In this section, we will randomly initialize a ResNet18 model and fine-tune on the classification task. We will freeze all previous layers except for the 'layer4' block and 'fc' layer."
      ]
    },
    {
      "cell_type": "code",
      "execution_count": null,
      "metadata": {
        "id": "2RfXAh9vxXRB",
        "colab": {
          "base_uri": "https://localhost:8080/"
        },
        "outputId": "d6a1c403-f6dd-4e4f-834d-d7e4a47bb2a5"
      },
      "outputs": [
        {
          "output_type": "stream",
          "name": "stderr",
          "text": [
            "/usr/local/lib/python3.9/dist-packages/torchvision/models/_utils.py:208: UserWarning: The parameter 'pretrained' is deprecated since 0.13 and may be removed in the future, please use 'weights' instead.\n",
            "  warnings.warn(\n",
            "/usr/local/lib/python3.9/dist-packages/torchvision/models/_utils.py:223: UserWarning: Arguments other than a weight enum or `None` for 'weights' are deprecated since 0.13 and may be removed in the future. The current behavior is equivalent to passing `weights=ResNet18_Weights.IMAGENET1K_V1`. You can also use `weights=ResNet18_Weights.DEFAULT` to get the most up-to-date weights.\n",
            "  warnings.warn(msg)\n",
            "Downloading: \"https://download.pytorch.org/models/resnet18-f37072fd.pth\" to /root/.cache/torch/hub/checkpoints/resnet18-f37072fd.pth\n",
            "100%|██████████| 44.7M/44.7M [00:01<00:00, 31.9MB/s]\n"
          ]
        }
      ],
      "source": [
        "import torch.nn as nn\n",
        "import torch.nn.functional as F\n",
        "\n",
        "from torchvision.models import resnet18\n",
        "\n",
        "# TODO: Randomly initialize a ResNet18 model\n",
        "\n",
        "model = resnet18(pretrained=True)\n",
        "\n",
        "# TODO: Randomly initialize a ResNet18 model\n",
        "for param in model.layer4.parameters():\n",
        "    param.requires_grad = True\n",
        "    if param.dim() > 1:\n",
        "        nn.init.kaiming_uniform_(param)\n",
        "\n",
        "for param in model.fc.parameters():\n",
        "    param.requires_grad = True\n",
        "    if param.dim() > 1:\n",
        "        nn.init.kaiming_uniform_(param)"
      ]
    },
    {
      "cell_type": "code",
      "execution_count": null,
      "metadata": {
        "id": "fpx-SYAizt4p"
      },
      "outputs": [],
      "source": [
        "# TODO: Freeze all previous layers; only keep the 'layer4' block and 'fc' layer trainable\n",
        "# To do this, you should set requires_grad=False for the frozen layers.\n",
        "for name, param in model.named_parameters():\n",
        "    if 'layer4' in name or 'fc' in name:\n",
        "        param.requires_grad = True\n",
        "    else:\n",
        "        param.requires_grad = False"
      ]
    },
    {
      "cell_type": "code",
      "execution_count": null,
      "metadata": {
        "id": "BUFWizbHxgm2",
        "colab": {
          "base_uri": "https://localhost:8080/"
        },
        "outputId": "6a1a13b8-b363-472c-b583-87253fc5e497"
      },
      "outputs": [
        {
          "output_type": "stream",
          "name": "stdout",
          "text": [
            "Params to learn:\n",
            "\t conv1.weight\n",
            "\t bn1.weight\n",
            "\t bn1.bias\n",
            "\t layer1.0.conv1.weight\n",
            "\t layer1.0.bn1.weight\n",
            "\t layer1.0.bn1.bias\n",
            "\t layer1.0.conv2.weight\n",
            "\t layer1.0.bn2.weight\n",
            "\t layer1.0.bn2.bias\n",
            "\t layer1.1.conv1.weight\n",
            "\t layer1.1.bn1.weight\n",
            "\t layer1.1.bn1.bias\n",
            "\t layer1.1.conv2.weight\n",
            "\t layer1.1.bn2.weight\n",
            "\t layer1.1.bn2.bias\n",
            "\t layer2.0.conv1.weight\n",
            "\t layer2.0.bn1.weight\n",
            "\t layer2.0.bn1.bias\n",
            "\t layer2.0.conv2.weight\n",
            "\t layer2.0.bn2.weight\n",
            "\t layer2.0.bn2.bias\n",
            "\t layer2.0.downsample.0.weight\n",
            "\t layer2.0.downsample.1.weight\n",
            "\t layer2.0.downsample.1.bias\n",
            "\t layer2.1.conv1.weight\n",
            "\t layer2.1.bn1.weight\n",
            "\t layer2.1.bn1.bias\n",
            "\t layer2.1.conv2.weight\n",
            "\t layer2.1.bn2.weight\n",
            "\t layer2.1.bn2.bias\n",
            "\t layer3.0.conv1.weight\n",
            "\t layer3.0.bn1.weight\n",
            "\t layer3.0.bn1.bias\n",
            "\t layer3.0.conv2.weight\n",
            "\t layer3.0.bn2.weight\n",
            "\t layer3.0.bn2.bias\n",
            "\t layer3.0.downsample.0.weight\n",
            "\t layer3.0.downsample.1.weight\n",
            "\t layer3.0.downsample.1.bias\n",
            "\t layer3.1.conv1.weight\n",
            "\t layer3.1.bn1.weight\n",
            "\t layer3.1.bn1.bias\n",
            "\t layer3.1.conv2.weight\n",
            "\t layer3.1.bn2.weight\n",
            "\t layer3.1.bn2.bias\n",
            "\t layer4.0.conv1.weight\n",
            "\t layer4.0.bn1.weight\n",
            "\t layer4.0.bn1.bias\n",
            "\t layer4.0.conv2.weight\n",
            "\t layer4.0.bn2.weight\n",
            "\t layer4.0.bn2.bias\n",
            "\t layer4.0.downsample.0.weight\n",
            "\t layer4.0.downsample.1.weight\n",
            "\t layer4.0.downsample.1.bias\n",
            "\t layer4.1.conv1.weight\n",
            "\t layer4.1.bn1.weight\n",
            "\t layer4.1.bn1.bias\n",
            "\t layer4.1.conv2.weight\n",
            "\t layer4.1.bn2.weight\n",
            "\t layer4.1.bn2.bias\n",
            "\t fc.weight\n",
            "\t fc.bias\n"
          ]
        }
      ],
      "source": [
        "# Print all the trainable parameters\n",
        "params_to_update = net.parameters()\n",
        "print(\"Params to learn:\")\n",
        "params_to_update = []\n",
        "for name,param in net.named_parameters():\n",
        "    if param.requires_grad == True:\n",
        "        params_to_update.append(param)\n",
        "        print(\"\\t\",name)"
      ]
    },
    {
      "cell_type": "code",
      "execution_count": null,
      "metadata": {
        "id": "BxFrGj091AN_"
      },
      "outputs": [],
      "source": [
        "# Define the criterion (loss function)\n",
        "criterion = nn.CrossEntropyLoss()\n",
        "\n",
        "# Define the optimizer; Only update the parameters that are trainable\n",
        "optimizer = optim.SGD(filter(lambda p: p.requires_grad, model.parameters()), \n",
        "                      lr=0.001, momentum=0.9)\n"
      ]
    },
    {
      "cell_type": "code",
      "execution_count": null,
      "metadata": {
        "id": "GzRVy0MZxpoL",
        "colab": {
          "base_uri": "https://localhost:8080/"
        },
        "outputId": "7c1e5314-26d7-4756-a2e8-34efe9dc2993"
      },
      "outputs": [
        {
          "output_type": "stream",
          "name": "stdout",
          "text": [
            "[1,   100] loss: 2.123 acc: 40.07 time: 9.59\n",
            "[1,   200] loss: 1.433 acc: 53.32 time: 8.50\n",
            "[1,   300] loss: 1.368 acc: 56.19 time: 10.09\n",
            "TESTING:\n",
            "Accuracy of the network on the 10000 test images: 59.12 %\n",
            "Average loss on the 10000 test images: 3.038\n",
            "[2,   100] loss: 1.266 acc: 59.93 time: 9.48\n",
            "[2,   200] loss: 1.270 acc: 59.30 time: 7.70\n",
            "[2,   300] loss: 1.130 acc: 61.61 time: 9.47\n",
            "TESTING:\n",
            "Accuracy of the network on the 10000 test images: 63.68 %\n",
            "Average loss on the 10000 test images: 1.142\n",
            "[3,   100] loss: 1.073 acc: 63.47 time: 11.34\n",
            "[3,   200] loss: 1.107 acc: 62.30 time: 7.73\n",
            "[3,   300] loss: 1.068 acc: 63.63 time: 9.97\n",
            "TESTING:\n",
            "Accuracy of the network on the 10000 test images: 65.07 %\n",
            "Average loss on the 10000 test images: 1.176\n",
            "[4,   100] loss: 1.036 acc: 65.07 time: 11.01\n",
            "[4,   200] loss: 1.010 acc: 65.20 time: 7.61\n",
            "[4,   300] loss: 0.995 acc: 65.91 time: 9.21\n",
            "TESTING:\n",
            "Accuracy of the network on the 10000 test images: 66.13 %\n",
            "Average loss on the 10000 test images: 1.221\n",
            "[5,   100] loss: 1.001 acc: 65.65 time: 9.39\n",
            "[5,   200] loss: 0.992 acc: 65.85 time: 7.69\n",
            "[5,   300] loss: 0.995 acc: 66.12 time: 9.41\n",
            "TESTING:\n",
            "Accuracy of the network on the 10000 test images: 67.05 %\n",
            "Average loss on the 10000 test images: 0.960\n",
            "[6,   100] loss: 0.948 acc: 67.31 time: 8.32\n",
            "[6,   200] loss: 0.936 acc: 67.80 time: 8.99\n",
            "[6,   300] loss: 0.980 acc: 66.72 time: 10.88\n",
            "TESTING:\n",
            "Accuracy of the network on the 10000 test images: 66.98 %\n",
            "Average loss on the 10000 test images: 0.994\n",
            "[7,   100] loss: 0.944 acc: 67.22 time: 7.86\n",
            "[7,   200] loss: 0.909 acc: 68.42 time: 9.48\n",
            "[7,   300] loss: 0.939 acc: 67.66 time: 9.17\n",
            "TESTING:\n",
            "Accuracy of the network on the 10000 test images: 67.45 %\n",
            "Average loss on the 10000 test images: 0.953\n",
            "[8,   100] loss: 0.900 acc: 68.75 time: 8.87\n",
            "[8,   200] loss: 0.923 acc: 68.55 time: 10.20\n",
            "[8,   300] loss: 0.930 acc: 68.01 time: 9.20\n",
            "TESTING:\n",
            "Accuracy of the network on the 10000 test images: 68.02 %\n",
            "Average loss on the 10000 test images: 0.925\n",
            "[9,   100] loss: 0.890 acc: 69.62 time: 8.45\n",
            "[9,   200] loss: 0.902 acc: 69.23 time: 9.23\n",
            "[9,   300] loss: 0.896 acc: 69.11 time: 7.54\n",
            "TESTING:\n",
            "Accuracy of the network on the 10000 test images: 68.67 %\n",
            "Average loss on the 10000 test images: 0.916\n",
            "[10,   100] loss: 0.871 acc: 69.91 time: 9.00\n",
            "[10,   200] loss: 0.896 acc: 69.38 time: 9.17\n",
            "[10,   300] loss: 0.881 acc: 68.97 time: 7.49\n",
            "TESTING:\n",
            "Accuracy of the network on the 10000 test images: 68.30 %\n",
            "Average loss on the 10000 test images: 0.915\n",
            "[11,   100] loss: 0.842 acc: 70.88 time: 9.32\n",
            "[11,   200] loss: 0.796 acc: 72.18 time: 8.32\n",
            "[11,   300] loss: 0.801 acc: 71.33 time: 8.67\n",
            "TESTING:\n",
            "Accuracy of the network on the 10000 test images: 70.30 %\n",
            "Average loss on the 10000 test images: 0.861\n",
            "[12,   100] loss: 0.774 acc: 72.77 time: 10.71\n",
            "[12,   200] loss: 0.782 acc: 72.23 time: 8.91\n",
            "[12,   300] loss: 0.768 acc: 72.73 time: 10.92\n",
            "TESTING:\n",
            "Accuracy of the network on the 10000 test images: 70.61 %\n",
            "Average loss on the 10000 test images: 0.864\n",
            "[13,   100] loss: 0.778 acc: 72.80 time: 9.34\n",
            "[13,   200] loss: 0.779 acc: 72.60 time: 10.72\n",
            "[13,   300] loss: 0.775 acc: 72.82 time: 7.77\n",
            "TESTING:\n",
            "Accuracy of the network on the 10000 test images: 70.44 %\n",
            "Average loss on the 10000 test images: 0.853\n",
            "[14,   100] loss: 0.769 acc: 72.66 time: 10.12\n",
            "[14,   200] loss: 0.771 acc: 72.87 time: 8.82\n",
            "[14,   300] loss: 0.763 acc: 72.87 time: 8.08\n",
            "TESTING:\n",
            "Accuracy of the network on the 10000 test images: 70.50 %\n",
            "Average loss on the 10000 test images: 0.855\n",
            "[15,   100] loss: 0.763 acc: 72.97 time: 10.93\n",
            "[15,   200] loss: 0.752 acc: 73.33 time: 8.40\n",
            "[15,   300] loss: 0.781 acc: 72.32 time: 8.69\n",
            "TESTING:\n",
            "Accuracy of the network on the 10000 test images: 70.83 %\n",
            "Average loss on the 10000 test images: 0.847\n",
            "[16,   100] loss: 0.757 acc: 73.16 time: 9.38\n",
            "[16,   200] loss: 0.756 acc: 73.38 time: 7.65\n",
            "[16,   300] loss: 0.760 acc: 73.22 time: 9.25\n",
            "TESTING:\n",
            "Accuracy of the network on the 10000 test images: 70.56 %\n",
            "Average loss on the 10000 test images: 0.856\n",
            "[17,   100] loss: 0.758 acc: 72.95 time: 9.31\n",
            "[17,   200] loss: 0.745 acc: 73.88 time: 7.61\n",
            "[17,   300] loss: 0.758 acc: 73.43 time: 9.02\n",
            "TESTING:\n",
            "Accuracy of the network on the 10000 test images: 70.83 %\n",
            "Average loss on the 10000 test images: 0.852\n",
            "[18,   100] loss: 0.755 acc: 73.26 time: 8.08\n",
            "[18,   200] loss: 0.768 acc: 72.99 time: 9.08\n",
            "[18,   300] loss: 0.750 acc: 73.37 time: 10.85\n",
            "TESTING:\n",
            "Accuracy of the network on the 10000 test images: 70.92 %\n",
            "Average loss on the 10000 test images: 0.849\n",
            "[19,   100] loss: 0.732 acc: 73.76 time: 7.67\n",
            "[19,   200] loss: 0.756 acc: 73.13 time: 9.18\n",
            "[19,   300] loss: 0.753 acc: 73.37 time: 9.25\n",
            "TESTING:\n",
            "Accuracy of the network on the 10000 test images: 70.82 %\n",
            "Average loss on the 10000 test images: 0.848\n",
            "[20,   100] loss: 0.743 acc: 73.91 time: 8.45\n",
            "[20,   200] loss: 0.745 acc: 73.82 time: 10.82\n",
            "[20,   300] loss: 0.753 acc: 73.59 time: 8.01\n",
            "TESTING:\n",
            "Accuracy of the network on the 10000 test images: 70.75 %\n",
            "Average loss on the 10000 test images: 0.851\n",
            "Finished Training\n"
          ]
        }
      ],
      "source": [
        "train(model, criterion, optimizer, num_epochs=20, decay_epochs=10, init_lr=0.01, \n",
        "      task='classification')"
      ]
    },
    {
      "cell_type": "markdown",
      "metadata": {
        "id": "WcN54tcNN15U"
      },
      "source": [
        "##Supervised training on the pre-trained model\n",
        "In this section, we will load the pre-trained ResNet18 model and re-train the whole model on the classification task."
      ]
    },
    {
      "cell_type": "code",
      "execution_count": 36,
      "metadata": {
        "id": "9xR9h_S1N6Xi"
      },
      "outputs": [],
      "source": [
        "import torch.nn as nn\n",
        "import torch.nn.functional as F\n",
        "\n",
        "from torchvision.models import resnet18\n",
        "\n",
        "# TODO: Load the pre-trained ResNet18 model\n",
        "model =resnet18()\n",
        "\n",
        "# num_classes = 4 # replace with the number of output classes\n",
        "# num_ftrs = model.fc.in_features\n",
        "# model.fc = nn.Linear(num_ftrs, num_classes)\n",
        "\n",
        "# Load the saved model weights\n",
        "model.load_state_dict(torch.load('model.pth'))\n",
        "\n",
        "for param in model.parameters():\n",
        "    param.requires_grad = True"
      ]
    },
    {
      "cell_type": "code",
      "execution_count": 37,
      "metadata": {
        "id": "gGozc2cM0ADw"
      },
      "outputs": [],
      "source": [
        "# Define the criterion (loss function)\n",
        "criterion = nn.CrossEntropyLoss()\n",
        "\n",
        "# Define the optimizer; Update all the parameters\n",
        "optimizer = optim.SGD(model.parameters(), lr=0.001, momentum=0.9)"
      ]
    },
    {
      "cell_type": "code",
      "execution_count": 38,
      "metadata": {
        "id": "JGWW7gzCz_Bu",
        "colab": {
          "base_uri": "https://localhost:8080/"
        },
        "outputId": "fbc55f02-ca88-423b-ec97-412c616aa58f"
      },
      "outputs": [
        {
          "output_type": "stream",
          "name": "stdout",
          "text": [
            "[1,   100] loss: 2.925 acc: 24.02 time: 7.16\n",
            "[1,   200] loss: 1.685 acc: 37.53 time: 5.61\n",
            "[1,   300] loss: 1.501 acc: 45.04 time: 7.35\n",
            "TESTING:\n",
            "Accuracy of the network on the 10000 test images: 50.36 %\n",
            "Average loss on the 10000 test images: 1.348\n",
            "[2,   100] loss: 1.285 acc: 53.78 time: 7.32\n",
            "[2,   200] loss: 1.240 acc: 55.30 time: 5.65\n",
            "[2,   300] loss: 1.182 acc: 57.08 time: 7.46\n",
            "TESTING:\n",
            "Accuracy of the network on the 10000 test images: 59.12 %\n",
            "Average loss on the 10000 test images: 1.162\n",
            "[3,   100] loss: 1.071 acc: 62.04 time: 7.39\n",
            "[3,   200] loss: 1.034 acc: 62.71 time: 5.67\n",
            "[3,   300] loss: 1.023 acc: 63.43 time: 7.33\n",
            "TESTING:\n",
            "Accuracy of the network on the 10000 test images: 64.12 %\n",
            "Average loss on the 10000 test images: 1.017\n",
            "[4,   100] loss: 0.947 acc: 66.20 time: 7.02\n",
            "[4,   200] loss: 0.954 acc: 66.03 time: 5.59\n",
            "[4,   300] loss: 0.934 acc: 66.76 time: 7.27\n",
            "TESTING:\n",
            "Accuracy of the network on the 10000 test images: 69.33 %\n",
            "Average loss on the 10000 test images: 0.875\n",
            "[5,   100] loss: 0.883 acc: 68.55 time: 6.48\n",
            "[5,   200] loss: 0.882 acc: 68.45 time: 6.03\n",
            "[5,   300] loss: 0.860 acc: 69.45 time: 6.95\n",
            "TESTING:\n",
            "Accuracy of the network on the 10000 test images: 69.38 %\n",
            "Average loss on the 10000 test images: 0.863\n",
            "[6,   100] loss: 0.815 acc: 70.74 time: 6.37\n",
            "[6,   200] loss: 0.825 acc: 70.92 time: 6.17\n",
            "[6,   300] loss: 0.825 acc: 70.59 time: 7.00\n",
            "TESTING:\n",
            "Accuracy of the network on the 10000 test images: 72.77 %\n",
            "Average loss on the 10000 test images: 0.775\n",
            "[7,   100] loss: 0.773 acc: 72.62 time: 6.20\n",
            "[7,   200] loss: 0.781 acc: 72.53 time: 6.07\n",
            "[7,   300] loss: 0.769 acc: 72.95 time: 6.95\n",
            "TESTING:\n",
            "Accuracy of the network on the 10000 test images: 72.47 %\n",
            "Average loss on the 10000 test images: 0.793\n",
            "[8,   100] loss: 0.734 acc: 74.00 time: 6.35\n",
            "[8,   200] loss: 0.744 acc: 73.87 time: 6.13\n",
            "[8,   300] loss: 0.737 acc: 74.06 time: 6.94\n",
            "TESTING:\n",
            "Accuracy of the network on the 10000 test images: 74.76 %\n",
            "Average loss on the 10000 test images: 0.726\n",
            "[9,   100] loss: 0.713 acc: 74.93 time: 6.29\n",
            "[9,   200] loss: 0.702 acc: 75.20 time: 6.24\n",
            "[9,   300] loss: 0.706 acc: 75.52 time: 6.84\n",
            "TESTING:\n",
            "Accuracy of the network on the 10000 test images: 75.53 %\n",
            "Average loss on the 10000 test images: 0.712\n",
            "[10,   100] loss: 0.683 acc: 76.33 time: 6.31\n",
            "[10,   200] loss: 0.664 acc: 76.69 time: 6.00\n",
            "[10,   300] loss: 0.674 acc: 76.19 time: 7.11\n",
            "TESTING:\n",
            "Accuracy of the network on the 10000 test images: 76.80 %\n",
            "Average loss on the 10000 test images: 0.675\n",
            "[11,   100] loss: 0.604 acc: 78.70 time: 6.34\n",
            "[11,   200] loss: 0.561 acc: 80.04 time: 6.03\n",
            "[11,   300] loss: 0.564 acc: 80.38 time: 6.95\n",
            "TESTING:\n",
            "Accuracy of the network on the 10000 test images: 79.54 %\n",
            "Average loss on the 10000 test images: 0.594\n",
            "[12,   100] loss: 0.543 acc: 80.64 time: 6.39\n",
            "[12,   200] loss: 0.548 acc: 80.67 time: 6.04\n",
            "[12,   300] loss: 0.548 acc: 80.68 time: 7.02\n",
            "TESTING:\n",
            "Accuracy of the network on the 10000 test images: 79.88 %\n",
            "Average loss on the 10000 test images: 0.588\n",
            "[13,   100] loss: 0.545 acc: 80.86 time: 6.27\n",
            "[13,   200] loss: 0.538 acc: 81.08 time: 6.13\n",
            "[13,   300] loss: 0.526 acc: 81.63 time: 6.95\n",
            "TESTING:\n",
            "Accuracy of the network on the 10000 test images: 80.18 %\n",
            "Average loss on the 10000 test images: 0.581\n",
            "[14,   100] loss: 0.520 acc: 81.62 time: 6.03\n",
            "[14,   200] loss: 0.521 acc: 81.81 time: 6.43\n",
            "[14,   300] loss: 0.533 acc: 81.02 time: 6.69\n",
            "TESTING:\n",
            "Accuracy of the network on the 10000 test images: 80.44 %\n",
            "Average loss on the 10000 test images: 0.572\n",
            "[15,   100] loss: 0.524 acc: 81.48 time: 5.96\n",
            "[15,   200] loss: 0.519 acc: 81.94 time: 6.76\n",
            "[15,   300] loss: 0.528 acc: 81.04 time: 6.43\n",
            "TESTING:\n",
            "Accuracy of the network on the 10000 test images: 80.23 %\n",
            "Average loss on the 10000 test images: 0.578\n",
            "[16,   100] loss: 0.510 acc: 82.16 time: 6.00\n",
            "[16,   200] loss: 0.503 acc: 82.45 time: 7.08\n",
            "[16,   300] loss: 0.523 acc: 81.48 time: 6.13\n",
            "TESTING:\n",
            "Accuracy of the network on the 10000 test images: 80.51 %\n",
            "Average loss on the 10000 test images: 0.574\n",
            "[17,   100] loss: 0.505 acc: 82.09 time: 5.87\n",
            "[17,   200] loss: 0.501 acc: 82.52 time: 7.19\n",
            "[17,   300] loss: 0.503 acc: 82.36 time: 5.66\n",
            "TESTING:\n",
            "Accuracy of the network on the 10000 test images: 80.66 %\n",
            "Average loss on the 10000 test images: 0.571\n",
            "[18,   100] loss: 0.495 acc: 82.46 time: 5.88\n",
            "[18,   200] loss: 0.497 acc: 82.38 time: 7.29\n",
            "[18,   300] loss: 0.504 acc: 81.81 time: 5.52\n",
            "TESTING:\n",
            "Accuracy of the network on the 10000 test images: 80.50 %\n",
            "Average loss on the 10000 test images: 0.569\n",
            "[19,   100] loss: 0.482 acc: 83.05 time: 5.72\n",
            "[19,   200] loss: 0.507 acc: 82.43 time: 7.41\n",
            "[19,   300] loss: 0.496 acc: 82.75 time: 5.59\n",
            "TESTING:\n",
            "Accuracy of the network on the 10000 test images: 80.79 %\n",
            "Average loss on the 10000 test images: 0.568\n",
            "[20,   100] loss: 0.488 acc: 82.81 time: 5.74\n",
            "[20,   200] loss: 0.493 acc: 82.35 time: 7.45\n",
            "[20,   300] loss: 0.484 acc: 83.13 time: 5.68\n",
            "TESTING:\n",
            "Accuracy of the network on the 10000 test images: 80.38 %\n",
            "Average loss on the 10000 test images: 0.565\n",
            "maximum accuracy is:  80.38\n",
            "minimum loss is:  tensor(0.5651, device='cuda:0')\n",
            "Finished Training\n"
          ]
        }
      ],
      "source": [
        "train(model, criterion, optimizer, num_epochs=20, decay_epochs=10, init_lr=0.01,\n",
        "      task='classification')"
      ]
    },
    {
      "cell_type": "markdown",
      "metadata": {
        "id": "xjVTp9jhefTi"
      },
      "source": [
        "##Supervised training on the randomly initialized model\n",
        "In this section, we will randomly initialize a ResNet18 model and re-train the whole model on the classification task."
      ]
    },
    {
      "cell_type": "code",
      "execution_count": null,
      "metadata": {
        "id": "uEjy8TBieeLK",
        "colab": {
          "base_uri": "https://localhost:8080/"
        },
        "outputId": "61be77ee-db50-49c0-cfa7-c4dde2a56780"
      },
      "outputs": [
        {
          "output_type": "stream",
          "name": "stderr",
          "text": [
            "/usr/local/lib/python3.9/dist-packages/torchvision/models/_utils.py:223: UserWarning: Arguments other than a weight enum or `None` for 'weights' are deprecated since 0.13 and may be removed in the future. The current behavior is equivalent to passing `weights=None`.\n",
            "  warnings.warn(msg)\n"
          ]
        }
      ],
      "source": [
        "import torch.nn as nn\n",
        "import torch.nn.functional as F\n",
        "\n",
        "from torchvision.models import resnet18\n",
        "\n",
        "# TODO: Randomly initialize a ResNet18 model\n",
        "model = resnet18(pretrained=False)\n",
        "\n",
        "for param in model.parameters():\n",
        "    param.requires_grad = True\n",
        "    if param.dim() > 1:\n",
        "        nn.init.kaiming_uniform_(param)"
      ]
    },
    {
      "cell_type": "code",
      "execution_count": null,
      "metadata": {
        "id": "jEY90pK_0ZAm"
      },
      "outputs": [],
      "source": [
        "# Define the criterion (loss function)\n",
        "criterion = nn.CrossEntropyLoss()\n",
        "\n",
        "# Define the optimizer; Update all the parameters\n",
        "optimizer = optim.SGD(model.parameters(), lr=0.001, momentum=0.9)"
      ]
    },
    {
      "cell_type": "code",
      "execution_count": null,
      "metadata": {
        "id": "lMDwelhY0auO",
        "colab": {
          "base_uri": "https://localhost:8080/"
        },
        "outputId": "01d2f9a9-7736-4c7f-dbf3-a5edbb4a2d4c"
      },
      "outputs": [
        {
          "output_type": "stream",
          "name": "stdout",
          "text": [
            "[1,   100] loss: 2.415 acc: 28.27 time: 8.72\n",
            "[1,   200] loss: 1.692 acc: 39.41 time: 11.34\n",
            "[1,   300] loss: 1.573 acc: 43.96 time: 10.31\n",
            "TESTING:\n",
            "Accuracy of the network on the 10000 test images: 49.51 %\n",
            "Average loss on the 10000 test images: 1.442\n",
            "[2,   100] loss: 1.420 acc: 49.30 time: 8.55\n",
            "[2,   200] loss: 1.415 acc: 49.59 time: 11.52\n",
            "[2,   300] loss: 1.350 acc: 52.51 time: 10.16\n",
            "TESTING:\n",
            "Accuracy of the network on the 10000 test images: 56.73 %\n",
            "Average loss on the 10000 test images: 1.291\n",
            "[3,   100] loss: 1.251 acc: 55.73 time: 8.52\n",
            "[3,   200] loss: 1.217 acc: 56.69 time: 9.61\n",
            "[3,   300] loss: 1.206 acc: 57.13 time: 10.05\n",
            "TESTING:\n",
            "Accuracy of the network on the 10000 test images: 62.05 %\n",
            "Average loss on the 10000 test images: 1.107\n",
            "[4,   100] loss: 1.109 acc: 60.55 time: 9.92\n",
            "[4,   200] loss: 1.112 acc: 60.70 time: 8.53\n",
            "[4,   300] loss: 1.106 acc: 60.72 time: 9.60\n",
            "TESTING:\n",
            "Accuracy of the network on the 10000 test images: 64.95 %\n",
            "Average loss on the 10000 test images: 1.012\n",
            "[5,   100] loss: 1.030 acc: 63.55 time: 8.44\n",
            "[5,   200] loss: 1.019 acc: 64.38 time: 9.30\n",
            "[5,   300] loss: 1.006 acc: 64.52 time: 9.62\n",
            "TESTING:\n",
            "Accuracy of the network on the 10000 test images: 63.90 %\n",
            "Average loss on the 10000 test images: 1.265\n",
            "[6,   100] loss: 0.962 acc: 65.77 time: 8.63\n",
            "[6,   200] loss: 0.965 acc: 65.90 time: 9.21\n",
            "[6,   300] loss: 0.932 acc: 66.99 time: 9.50\n",
            "TESTING:\n",
            "Accuracy of the network on the 10000 test images: 67.63 %\n",
            "Average loss on the 10000 test images: 0.932\n",
            "[7,   100] loss: 0.898 acc: 67.79 time: 8.25\n",
            "[7,   200] loss: 0.892 acc: 68.72 time: 9.59\n",
            "[7,   300] loss: 0.899 acc: 68.60 time: 11.39\n",
            "TESTING:\n",
            "Accuracy of the network on the 10000 test images: 70.89 %\n",
            "Average loss on the 10000 test images: 0.831\n",
            "[8,   100] loss: 0.848 acc: 70.12 time: 8.41\n",
            "[8,   200] loss: 0.868 acc: 69.27 time: 9.15\n",
            "[8,   300] loss: 0.850 acc: 69.74 time: 9.46\n",
            "TESTING:\n",
            "Accuracy of the network on the 10000 test images: 71.84 %\n",
            "Average loss on the 10000 test images: 0.816\n",
            "[9,   100] loss: 0.831 acc: 70.91 time: 7.97\n",
            "[9,   200] loss: 0.788 acc: 71.90 time: 11.34\n",
            "[9,   300] loss: 0.800 acc: 72.32 time: 9.05\n",
            "TESTING:\n",
            "Accuracy of the network on the 10000 test images: 72.37 %\n",
            "Average loss on the 10000 test images: 0.802\n",
            "[10,   100] loss: 0.772 acc: 73.00 time: 9.05\n",
            "[10,   200] loss: 0.775 acc: 72.73 time: 9.49\n",
            "[10,   300] loss: 0.770 acc: 73.33 time: 8.19\n",
            "TESTING:\n",
            "Accuracy of the network on the 10000 test images: 73.73 %\n",
            "Average loss on the 10000 test images: 0.762\n",
            "[11,   100] loss: 0.688 acc: 76.01 time: 11.24\n",
            "[11,   200] loss: 0.682 acc: 76.08 time: 9.55\n",
            "[11,   300] loss: 0.649 acc: 76.89 time: 8.00\n",
            "TESTING:\n",
            "Accuracy of the network on the 10000 test images: 76.56 %\n",
            "Average loss on the 10000 test images: 0.674\n",
            "[12,   100] loss: 0.656 acc: 76.89 time: 9.77\n",
            "[12,   200] loss: 0.648 acc: 77.19 time: 9.24\n",
            "[12,   300] loss: 0.640 acc: 77.66 time: 8.35\n",
            "TESTING:\n",
            "Accuracy of the network on the 10000 test images: 77.24 %\n",
            "Average loss on the 10000 test images: 0.667\n",
            "[13,   100] loss: 0.630 acc: 77.69 time: 9.92\n",
            "[13,   200] loss: 0.627 acc: 78.13 time: 7.92\n",
            "[13,   300] loss: 0.639 acc: 77.13 time: 9.84\n",
            "TESTING:\n",
            "Accuracy of the network on the 10000 test images: 77.13 %\n",
            "Average loss on the 10000 test images: 0.664\n",
            "[14,   100] loss: 0.622 acc: 77.83 time: 9.71\n",
            "[14,   200] loss: 0.620 acc: 78.23 time: 7.98\n",
            "[14,   300] loss: 0.615 acc: 77.96 time: 11.29\n",
            "TESTING:\n",
            "Accuracy of the network on the 10000 test images: 77.19 %\n",
            "Average loss on the 10000 test images: 0.663\n",
            "[15,   100] loss: 0.626 acc: 77.91 time: 10.07\n",
            "[15,   200] loss: 0.609 acc: 78.10 time: 7.95\n",
            "[15,   300] loss: 0.614 acc: 78.42 time: 9.83\n",
            "TESTING:\n",
            "Accuracy of the network on the 10000 test images: 77.49 %\n",
            "Average loss on the 10000 test images: 0.652\n",
            "[16,   100] loss: 0.616 acc: 77.82 time: 9.68\n",
            "[16,   200] loss: 0.601 acc: 78.89 time: 9.49\n",
            "[16,   300] loss: 0.608 acc: 78.39 time: 9.66\n",
            "TESTING:\n",
            "Accuracy of the network on the 10000 test images: 77.36 %\n",
            "Average loss on the 10000 test images: 0.659\n",
            "[17,   100] loss: 0.603 acc: 78.86 time: 9.79\n",
            "[17,   200] loss: 0.590 acc: 79.27 time: 8.00\n",
            "[17,   300] loss: 0.607 acc: 78.34 time: 9.60\n",
            "TESTING:\n",
            "Accuracy of the network on the 10000 test images: 77.30 %\n",
            "Average loss on the 10000 test images: 0.654\n",
            "[18,   100] loss: 0.614 acc: 78.05 time: 11.53\n",
            "[18,   200] loss: 0.592 acc: 79.08 time: 8.01\n",
            "[18,   300] loss: 0.599 acc: 79.11 time: 9.71\n",
            "TESTING:\n",
            "Accuracy of the network on the 10000 test images: 77.15 %\n",
            "Average loss on the 10000 test images: 0.654\n",
            "[19,   100] loss: 0.587 acc: 79.09 time: 10.15\n",
            "[19,   200] loss: 0.586 acc: 79.58 time: 7.99\n",
            "[19,   300] loss: 0.603 acc: 78.92 time: 10.33\n",
            "TESTING:\n",
            "Accuracy of the network on the 10000 test images: 77.92 %\n",
            "Average loss on the 10000 test images: 0.646\n",
            "[20,   100] loss: 0.582 acc: 79.17 time: 9.94\n",
            "[20,   200] loss: 0.591 acc: 78.77 time: 7.93\n",
            "[20,   300] loss: 0.580 acc: 79.39 time: 9.71\n",
            "TESTING:\n",
            "Accuracy of the network on the 10000 test images: 77.83 %\n",
            "Average loss on the 10000 test images: 0.642\n",
            "Finished Training\n"
          ]
        }
      ],
      "source": [
        "train(model, criterion, optimizer, num_epochs=20, decay_epochs=10, init_lr=0.01,\n",
        "      task='classification')"
      ]
    },
    {
      "cell_type": "markdown",
      "source": [
        "# **plotting**"
      ],
      "metadata": {
        "id": "yTzja1ZkGj-j"
      }
    },
    {
      "cell_type": "markdown",
      "source": [
        "**RotNet fine-tuning code**:\n",
        "Fine-tuning on the pre-trained model(RotNet)\n",
        "\n",
        "we loaded the pre-trained ResNet18 model(RotNet) and fine-tune on the classification task. "
      ],
      "metadata": {
        "id": "RP_k4SZGRqzM"
      }
    },
    {
      "cell_type": "markdown",
      "source": [
        "# train on subset of dataset: 20 image"
      ],
      "metadata": {
        "id": "UfmZONAlQN1d"
      }
    },
    {
      "cell_type": "code",
      "source": [
        "# 20 sunset of data \n",
        "\n",
        "trainset = CIFAR10Rotation(root='/content/drive/MyDrive/exam/cifar-10-batches-py',\n",
        "                           train=True,download=True, transform=transform_train)\n",
        "subset_indices = [ i for i in range(20)] # indices of the subset of data you want to use\n",
        "subset_dataset = Subset(trainset, subset_indices)\n",
        "\n",
        "trainloader = torch.utils.data.DataLoader(subset_dataset, batch_size=batch_size,\n",
        "                                          shuffle=True, num_workers=2)\n"
      ],
      "metadata": {
        "colab": {
          "base_uri": "https://localhost:8080/"
        },
        "id": "nWvY2GAfRQRg",
        "outputId": "91c02aba-c649-400c-b917-bcd3059347f9"
      },
      "execution_count": 39,
      "outputs": [
        {
          "output_type": "stream",
          "name": "stdout",
          "text": [
            "Files already downloaded and verified\n"
          ]
        }
      ]
    },
    {
      "cell_type": "code",
      "source": [
        "# Both the self-supervised rotation task and supervised CIFAR10 classification are\n",
        "# trained with the CrossEntropyLoss, so we can use the training loop code.\n",
        "\n",
        "def train(net, criterion, optimizer, num_epochs, decay_epochs, init_lr, task):\n",
        "    device = torch.device(\"cuda\" if torch.cuda.is_available() else \"cpu\")\n",
        "    net.to(device)\n",
        "    \n",
        "    for epoch in range(num_epochs):  # loop over the dataset multiple times\n",
        "        acc_tot=[]\n",
        "        loss_tot=[]\n",
        "        running_loss = 0.0\n",
        "        running_correct = 0.0\n",
        "        running_total = 0.0\n",
        "        start_time = time.time()\n",
        "\n",
        "        net.train()\n",
        "\n",
        "        for i, (imgs, imgs_rotated, rotation_label, cls_label) in enumerate(trainloader, 0):\n",
        "            adjust_learning_rate(optimizer, epoch, init_lr, decay_epochs)\n",
        "\n",
        "            # TODO: Set the data to the correct device; Different task will use different inputs and labels\n",
        "            if task == 'rotation':\n",
        "              images, labels = imgs_rotated.to(device), rotation_label.to(device)\n",
        "            elif task == 'classification':\n",
        "                images, labels = imgs.to(device), cls_label.to(device)\n",
        "\n",
        "            # Zero the parameter gradients\n",
        "            optimizer.zero_grad()\n",
        "\n",
        "            # Forward + Backward + Optimize\n",
        "            outputs = net(images)\n",
        "            loss = criterion(outputs, labels)\n",
        "            loss.backward()\n",
        "            optimizer.step()\n",
        "\n",
        "            # Get predicted results\n",
        "            _, predicted = torch.max(outputs.data, 1)\n",
        "\n",
        "            # print statistics\n",
        "            print_freq = 100\n",
        "            running_loss += loss.item()\n",
        "\n",
        "            # calc acc\n",
        "            running_total += labels.size(0)\n",
        "            running_correct += (predicted == labels).sum().item()\n",
        "\n",
        "            if i % print_freq == (print_freq - 1):    # print every 2000 mini-batches\n",
        "                print(f'[{epoch + 1}, {i + 1:5d}] loss: {running_loss / print_freq:.3f} acc: {100*running_correct / running_total:.2f} time: {time.time() - start_time:.2f}')\n",
        "                running_loss, running_correct, running_total = 0.0, 0.0, 0.0\n",
        "                start_time = time.time()\n",
        "\n",
        "        # Run the run_test() function after each epoch; Set the model to the evaluation mode.\n",
        "        net.eval()\n",
        "        acc,loss=run_test(net, testloader, criterion, task)\n",
        "        acc_tot.append(acc)\n",
        "        loss_tot.append(loss)\n",
        "\n",
        "    print('maximum accuracy is: ',max(acc_tot))\n",
        "    print('minimum loss is: ',min(loss_tot))\n",
        "    print('Finished Training')"
      ],
      "metadata": {
        "id": "FY1vJKixj-tF"
      },
      "execution_count": 53,
      "outputs": []
    },
    {
      "cell_type": "code",
      "source": [
        "import torch.nn as nn\n",
        "import torch.nn.functional as F\n",
        "\n",
        "from torchvision.models import resnet18\n",
        "\n",
        "# TODO: Load the pre-trained ResNet18 model\n",
        "\n",
        "model =resnet18()\n",
        "\n",
        "# Load the saved model weights\n",
        "model.load_state_dict(torch.load('model.pth'))\n",
        "\n",
        "for param in model.parameters():\n",
        "    param.requires_grad = True\n",
        "\n",
        "# Define the criterion (loss function)\n",
        "criterion = nn.CrossEntropyLoss()\n",
        "\n",
        "optimizer = optim.SGD(model.parameters(), lr=0.001, momentum=0.9)\n",
        "\n",
        "train(model, criterion, optimizer, num_epochs=20, decay_epochs=10, init_lr=0.01, task='classification')"
      ],
      "metadata": {
        "colab": {
          "base_uri": "https://localhost:8080/"
        },
        "id": "z3iqKOjIkG7K",
        "outputId": "36331a88-ec54-4b8f-b1e3-6c965471e26a"
      },
      "execution_count": 42,
      "outputs": [
        {
          "output_type": "stream",
          "name": "stdout",
          "text": [
            "TESTING:\n",
            "Accuracy of the network on the 10000 test images: 9.38 %\n",
            "Average loss on the 10000 test images: 13.207\n",
            "TESTING:\n",
            "Accuracy of the network on the 10000 test images: 8.28 %\n",
            "Average loss on the 10000 test images: 15.290\n",
            "TESTING:\n",
            "Accuracy of the network on the 10000 test images: 9.33 %\n",
            "Average loss on the 10000 test images: 17.923\n",
            "TESTING:\n",
            "Accuracy of the network on the 10000 test images: 8.68 %\n",
            "Average loss on the 10000 test images: 19.129\n",
            "TESTING:\n",
            "Accuracy of the network on the 10000 test images: 10.56 %\n",
            "Average loss on the 10000 test images: 20.257\n",
            "TESTING:\n",
            "Accuracy of the network on the 10000 test images: 11.32 %\n",
            "Average loss on the 10000 test images: 20.607\n",
            "TESTING:\n",
            "Accuracy of the network on the 10000 test images: 12.79 %\n",
            "Average loss on the 10000 test images: 21.324\n",
            "TESTING:\n",
            "Accuracy of the network on the 10000 test images: 14.38 %\n",
            "Average loss on the 10000 test images: 20.808\n",
            "TESTING:\n",
            "Accuracy of the network on the 10000 test images: 15.54 %\n",
            "Average loss on the 10000 test images: 20.452\n",
            "TESTING:\n",
            "Accuracy of the network on the 10000 test images: 16.15 %\n",
            "Average loss on the 10000 test images: 18.458\n",
            "TESTING:\n",
            "Accuracy of the network on the 10000 test images: 16.36 %\n",
            "Average loss on the 10000 test images: 13.189\n",
            "TESTING:\n",
            "Accuracy of the network on the 10000 test images: 16.47 %\n",
            "Average loss on the 10000 test images: 10.619\n",
            "TESTING:\n",
            "Accuracy of the network on the 10000 test images: 16.14 %\n",
            "Average loss on the 10000 test images: 8.809\n",
            "TESTING:\n",
            "Accuracy of the network on the 10000 test images: 15.85 %\n",
            "Average loss on the 10000 test images: 7.697\n",
            "TESTING:\n",
            "Accuracy of the network on the 10000 test images: 15.34 %\n",
            "Average loss on the 10000 test images: 6.875\n",
            "TESTING:\n",
            "Accuracy of the network on the 10000 test images: 14.85 %\n",
            "Average loss on the 10000 test images: 6.312\n",
            "TESTING:\n",
            "Accuracy of the network on the 10000 test images: 14.47 %\n",
            "Average loss on the 10000 test images: 5.974\n",
            "TESTING:\n",
            "Accuracy of the network on the 10000 test images: 13.99 %\n",
            "Average loss on the 10000 test images: 5.683\n",
            "TESTING:\n",
            "Accuracy of the network on the 10000 test images: 13.67 %\n",
            "Average loss on the 10000 test images: 5.514\n",
            "TESTING:\n",
            "Accuracy of the network on the 10000 test images: 13.41 %\n",
            "Average loss on the 10000 test images: 5.346\n",
            "maximum accuracy is:  13.41\n",
            "minimum loss is:  tensor(5.3459, device='cuda:0')\n",
            "Finished Training\n"
          ]
        }
      ]
    },
    {
      "cell_type": "markdown",
      "source": [
        "# train on subset of dataset: **100** image"
      ],
      "metadata": {
        "id": "fl-0cBmWQe1-"
      }
    },
    {
      "cell_type": "code",
      "source": [
        "# 100 sunset of data \n",
        "\n",
        "trainset = CIFAR10Rotation(root='/content/drive/MyDrive/exam/cifar-10-batches-py',\n",
        "                           train=True,\n",
        "                                        download=True, transform=transform_train)\n",
        "subset_indices = [ i for i in range(100)] # indices of the subset of data you want to use\n",
        "subset_dataset = Subset(trainset, subset_indices)\n",
        "\n",
        "trainloader = torch.utils.data.DataLoader(subset_dataset, batch_size=batch_size,\n",
        "                                          shuffle=True, num_workers=2)\n"
      ],
      "metadata": {
        "colab": {
          "base_uri": "https://localhost:8080/"
        },
        "id": "OVv7Ny28RNYW",
        "outputId": "00892a81-dbc9-406d-83d0-bae3ea7a330b"
      },
      "execution_count": 43,
      "outputs": [
        {
          "output_type": "stream",
          "name": "stdout",
          "text": [
            "Files already downloaded and verified\n"
          ]
        }
      ]
    },
    {
      "cell_type": "code",
      "source": [
        "train(model, criterion, optimizer, num_epochs=20, decay_epochs=10, init_lr=0.01,\n",
        "      task='classification')"
      ],
      "metadata": {
        "colab": {
          "base_uri": "https://localhost:8080/"
        },
        "id": "FSW6M6dsQeWi",
        "outputId": "8ae17938-5a1f-47fb-a4df-e9023fc7932d"
      },
      "execution_count": 45,
      "outputs": [
        {
          "output_type": "stream",
          "name": "stdout",
          "text": [
            "TESTING:\n",
            "Accuracy of the network on the 10000 test images: 13.02 %\n",
            "Average loss on the 10000 test images: 4.960\n",
            "TESTING:\n",
            "Accuracy of the network on the 10000 test images: 13.03 %\n",
            "Average loss on the 10000 test images: 4.737\n",
            "TESTING:\n",
            "Accuracy of the network on the 10000 test images: 13.07 %\n",
            "Average loss on the 10000 test images: 4.576\n",
            "TESTING:\n",
            "Accuracy of the network on the 10000 test images: 13.61 %\n",
            "Average loss on the 10000 test images: 4.461\n",
            "TESTING:\n",
            "Accuracy of the network on the 10000 test images: 14.75 %\n",
            "Average loss on the 10000 test images: 4.393\n",
            "TESTING:\n",
            "Accuracy of the network on the 10000 test images: 15.53 %\n",
            "Average loss on the 10000 test images: 4.350\n",
            "TESTING:\n",
            "Accuracy of the network on the 10000 test images: 16.21 %\n",
            "Average loss on the 10000 test images: 4.306\n",
            "TESTING:\n",
            "Accuracy of the network on the 10000 test images: 16.47 %\n",
            "Average loss on the 10000 test images: 4.221\n",
            "TESTING:\n",
            "Accuracy of the network on the 10000 test images: 16.42 %\n",
            "Average loss on the 10000 test images: 4.083\n",
            "TESTING:\n",
            "Accuracy of the network on the 10000 test images: 15.27 %\n",
            "Average loss on the 10000 test images: 3.931\n",
            "TESTING:\n",
            "Accuracy of the network on the 10000 test images: 15.13 %\n",
            "Average loss on the 10000 test images: 3.858\n",
            "TESTING:\n",
            "Accuracy of the network on the 10000 test images: 15.09 %\n",
            "Average loss on the 10000 test images: 3.808\n",
            "TESTING:\n",
            "Accuracy of the network on the 10000 test images: 15.25 %\n",
            "Average loss on the 10000 test images: 3.763\n",
            "TESTING:\n",
            "Accuracy of the network on the 10000 test images: 15.55 %\n",
            "Average loss on the 10000 test images: 3.728\n",
            "TESTING:\n",
            "Accuracy of the network on the 10000 test images: 15.80 %\n",
            "Average loss on the 10000 test images: 3.696\n",
            "TESTING:\n",
            "Accuracy of the network on the 10000 test images: 16.23 %\n",
            "Average loss on the 10000 test images: 3.673\n",
            "TESTING:\n",
            "Accuracy of the network on the 10000 test images: 16.38 %\n",
            "Average loss on the 10000 test images: 3.650\n",
            "TESTING:\n",
            "Accuracy of the network on the 10000 test images: 16.81 %\n",
            "Average loss on the 10000 test images: 3.629\n",
            "TESTING:\n",
            "Accuracy of the network on the 10000 test images: 17.20 %\n",
            "Average loss on the 10000 test images: 3.612\n",
            "TESTING:\n",
            "Accuracy of the network on the 10000 test images: 17.61 %\n",
            "Average loss on the 10000 test images: 3.597\n",
            "maximum accuracy is:  17.61\n",
            "minimum loss is:  tensor(3.5965, device='cuda:0')\n",
            "Finished Training\n"
          ]
        }
      ]
    },
    {
      "cell_type": "markdown",
      "source": [
        "# train on subset of dataset: **400** image"
      ],
      "metadata": {
        "id": "SbiyIH59Qne0"
      }
    },
    {
      "cell_type": "code",
      "source": [
        "# 400 sunset of data \n",
        "subset_indices = [ i for i in range(400)] # indices of the subset of data you want to use\n",
        "subset_dataset = Subset(trainset, subset_indices)\n",
        "\n",
        "trainloader = torch.utils.data.DataLoader(subset_dataset, batch_size=batch_size,\n",
        "                                          shuffle=True, num_workers=2)\n"
      ],
      "metadata": {
        "id": "rhfGrJe5RCgR"
      },
      "execution_count": 46,
      "outputs": []
    },
    {
      "cell_type": "code",
      "source": [
        "train(model, criterion, optimizer, num_epochs=20, decay_epochs=10, init_lr=0.01,\n",
        "      task='classification')"
      ],
      "metadata": {
        "colab": {
          "base_uri": "https://localhost:8080/"
        },
        "id": "nkyvrp_vQqHs",
        "outputId": "49c87b6b-2577-4441-889d-caf1008332ee"
      },
      "execution_count": 48,
      "outputs": [
        {
          "output_type": "stream",
          "name": "stdout",
          "text": [
            "TESTING:\n",
            "Accuracy of the network on the 10000 test images: 20.71 %\n",
            "Average loss on the 10000 test images: 3.083\n",
            "TESTING:\n",
            "Accuracy of the network on the 10000 test images: 22.87 %\n",
            "Average loss on the 10000 test images: 2.698\n",
            "TESTING:\n",
            "Accuracy of the network on the 10000 test images: 25.75 %\n",
            "Average loss on the 10000 test images: 2.473\n",
            "TESTING:\n",
            "Accuracy of the network on the 10000 test images: 26.45 %\n",
            "Average loss on the 10000 test images: 2.250\n",
            "TESTING:\n",
            "Accuracy of the network on the 10000 test images: 26.08 %\n",
            "Average loss on the 10000 test images: 2.154\n",
            "TESTING:\n",
            "Accuracy of the network on the 10000 test images: 24.11 %\n",
            "Average loss on the 10000 test images: 2.193\n",
            "TESTING:\n",
            "Accuracy of the network on the 10000 test images: 25.36 %\n",
            "Average loss on the 10000 test images: 2.179\n",
            "TESTING:\n",
            "Accuracy of the network on the 10000 test images: 28.82 %\n",
            "Average loss on the 10000 test images: 2.062\n",
            "TESTING:\n",
            "Accuracy of the network on the 10000 test images: 30.06 %\n",
            "Average loss on the 10000 test images: 2.012\n",
            "TESTING:\n",
            "Accuracy of the network on the 10000 test images: 29.61 %\n",
            "Average loss on the 10000 test images: 2.009\n",
            "TESTING:\n",
            "Accuracy of the network on the 10000 test images: 30.16 %\n",
            "Average loss on the 10000 test images: 1.980\n",
            "TESTING:\n",
            "Accuracy of the network on the 10000 test images: 30.72 %\n",
            "Average loss on the 10000 test images: 1.947\n",
            "TESTING:\n",
            "Accuracy of the network on the 10000 test images: 31.90 %\n",
            "Average loss on the 10000 test images: 1.925\n",
            "TESTING:\n",
            "Accuracy of the network on the 10000 test images: 32.97 %\n",
            "Average loss on the 10000 test images: 1.902\n",
            "TESTING:\n",
            "Accuracy of the network on the 10000 test images: 33.01 %\n",
            "Average loss on the 10000 test images: 1.897\n",
            "TESTING:\n",
            "Accuracy of the network on the 10000 test images: 32.80 %\n",
            "Average loss on the 10000 test images: 1.894\n",
            "TESTING:\n",
            "Accuracy of the network on the 10000 test images: 33.17 %\n",
            "Average loss on the 10000 test images: 1.886\n",
            "TESTING:\n",
            "Accuracy of the network on the 10000 test images: 33.56 %\n",
            "Average loss on the 10000 test images: 1.873\n",
            "TESTING:\n",
            "Accuracy of the network on the 10000 test images: 33.94 %\n",
            "Average loss on the 10000 test images: 1.873\n",
            "TESTING:\n",
            "Accuracy of the network on the 10000 test images: 34.11 %\n",
            "Average loss on the 10000 test images: 1.879\n",
            "maximum accuracy is:  34.11\n",
            "minimum loss is:  tensor(1.8792, device='cuda:0')\n",
            "Finished Training\n"
          ]
        }
      ]
    },
    {
      "cell_type": "markdown",
      "source": [
        "# train on subset of dataset: 1000 image"
      ],
      "metadata": {
        "id": "c6tVk0SAQuAM"
      }
    },
    {
      "cell_type": "code",
      "source": [
        "# 1000 sunset of data \n",
        "\n",
        "subset_indices = [ i for i in range(1000)] # indices of the subset of data you want to use\n",
        "subset_dataset = Subset(trainset, subset_indices)\n",
        "\n",
        "trainloader = torch.utils.data.DataLoader(subset_dataset, batch_size=batch_size,\n",
        "                                          shuffle=True, num_workers=2)"
      ],
      "metadata": {
        "id": "WxH8dh4SRAMA"
      },
      "execution_count": 49,
      "outputs": []
    },
    {
      "cell_type": "code",
      "source": [
        "train(model, criterion, optimizer, num_epochs=20, decay_epochs=10, init_lr=0.01,\n",
        "      task='classification')"
      ],
      "metadata": {
        "colab": {
          "base_uri": "https://localhost:8080/"
        },
        "id": "XWhwiR6KQs54",
        "outputId": "9d4eb8d1-63b7-4bf3-b329-32d82ed86a49"
      },
      "execution_count": 51,
      "outputs": [
        {
          "output_type": "stream",
          "name": "stdout",
          "text": [
            "TESTING:\n",
            "Accuracy of the network on the 10000 test images: 35.82 %\n",
            "Average loss on the 10000 test images: 1.812\n",
            "TESTING:\n",
            "Accuracy of the network on the 10000 test images: 34.71 %\n",
            "Average loss on the 10000 test images: 1.762\n",
            "TESTING:\n",
            "Accuracy of the network on the 10000 test images: 40.18 %\n",
            "Average loss on the 10000 test images: 1.645\n",
            "TESTING:\n",
            "Accuracy of the network on the 10000 test images: 41.45 %\n",
            "Average loss on the 10000 test images: 1.629\n",
            "TESTING:\n",
            "Accuracy of the network on the 10000 test images: 40.50 %\n",
            "Average loss on the 10000 test images: 1.646\n",
            "TESTING:\n",
            "Accuracy of the network on the 10000 test images: 43.30 %\n",
            "Average loss on the 10000 test images: 1.586\n",
            "TESTING:\n",
            "Accuracy of the network on the 10000 test images: 46.35 %\n",
            "Average loss on the 10000 test images: 1.521\n",
            "TESTING:\n",
            "Accuracy of the network on the 10000 test images: 46.27 %\n",
            "Average loss on the 10000 test images: 1.544\n",
            "TESTING:\n",
            "Accuracy of the network on the 10000 test images: 46.00 %\n",
            "Average loss on the 10000 test images: 1.586\n",
            "TESTING:\n",
            "Accuracy of the network on the 10000 test images: 46.55 %\n",
            "Average loss on the 10000 test images: 1.579\n",
            "TESTING:\n",
            "Accuracy of the network on the 10000 test images: 48.12 %\n",
            "Average loss on the 10000 test images: 1.526\n",
            "TESTING:\n",
            "Accuracy of the network on the 10000 test images: 48.72 %\n",
            "Average loss on the 10000 test images: 1.517\n",
            "TESTING:\n",
            "Accuracy of the network on the 10000 test images: 48.94 %\n",
            "Average loss on the 10000 test images: 1.515\n",
            "TESTING:\n",
            "Accuracy of the network on the 10000 test images: 49.06 %\n",
            "Average loss on the 10000 test images: 1.516\n",
            "TESTING:\n",
            "Accuracy of the network on the 10000 test images: 49.28 %\n",
            "Average loss on the 10000 test images: 1.520\n",
            "TESTING:\n",
            "Accuracy of the network on the 10000 test images: 49.19 %\n",
            "Average loss on the 10000 test images: 1.528\n",
            "TESTING:\n",
            "Accuracy of the network on the 10000 test images: 49.23 %\n",
            "Average loss on the 10000 test images: 1.530\n",
            "TESTING:\n",
            "Accuracy of the network on the 10000 test images: 49.00 %\n",
            "Average loss on the 10000 test images: 1.534\n",
            "TESTING:\n",
            "Accuracy of the network on the 10000 test images: 48.79 %\n",
            "Average loss on the 10000 test images: 1.545\n",
            "TESTING:\n",
            "Accuracy of the network on the 10000 test images: 49.04 %\n",
            "Average loss on the 10000 test images: 1.558\n",
            "maximum accuracy is:  49.04\n",
            "minimum loss is:  tensor(1.5579, device='cuda:0')\n",
            "Finished Training\n"
          ]
        }
      ]
    },
    {
      "cell_type": "markdown",
      "source": [
        "# train on subset of dataset: 5000 image"
      ],
      "metadata": {
        "id": "wNjM14ssQ2RY"
      }
    },
    {
      "cell_type": "code",
      "source": [
        "# 5000 sunset of data \n",
        "\n",
        "subset_indices = [ i for i in range(5000)] # indices of the subset of data you want to use\n",
        "subset_dataset = Subset(trainset, subset_indices)\n",
        "\n",
        "trainloader = torch.utils.data.DataLoader(subset_dataset, batch_size=batch_size,\n",
        "                                          shuffle=True, num_workers=2)"
      ],
      "metadata": {
        "id": "Y7kGZtF2Q8Zw"
      },
      "execution_count": 52,
      "outputs": []
    },
    {
      "cell_type": "code",
      "source": [
        "train(model, criterion, optimizer, num_epochs=20, decay_epochs=10, init_lr=0.01, \n",
        "      task='classification')"
      ],
      "metadata": {
        "colab": {
          "base_uri": "https://localhost:8080/"
        },
        "id": "_oTTcYdKQz_j",
        "outputId": "054c8c2f-8cb9-49df-ae30-be81e4732d2b"
      },
      "execution_count": 54,
      "outputs": [
        {
          "output_type": "stream",
          "name": "stdout",
          "text": [
            "TESTING:\n",
            "Accuracy of the network on the 10000 test images: 20.96 %\n",
            "Average loss on the 10000 test images: 2.224\n",
            "TESTING:\n",
            "Accuracy of the network on the 10000 test images: 33.08 %\n",
            "Average loss on the 10000 test images: 1.741\n",
            "TESTING:\n",
            "Accuracy of the network on the 10000 test images: 39.86 %\n",
            "Average loss on the 10000 test images: 1.650\n",
            "TESTING:\n",
            "Accuracy of the network on the 10000 test images: 44.25 %\n",
            "Average loss on the 10000 test images: 1.519\n",
            "TESTING:\n",
            "Accuracy of the network on the 10000 test images: 47.08 %\n",
            "Average loss on the 10000 test images: 1.472\n",
            "TESTING:\n",
            "Accuracy of the network on the 10000 test images: 48.57 %\n",
            "Average loss on the 10000 test images: 1.437\n",
            "TESTING:\n",
            "Accuracy of the network on the 10000 test images: 48.37 %\n",
            "Average loss on the 10000 test images: 1.448\n",
            "TESTING:\n",
            "Accuracy of the network on the 10000 test images: 53.45 %\n",
            "Average loss on the 10000 test images: 1.313\n",
            "TESTING:\n",
            "Accuracy of the network on the 10000 test images: 57.00 %\n",
            "Average loss on the 10000 test images: 1.193\n",
            "TESTING:\n",
            "Accuracy of the network on the 10000 test images: 53.81 %\n",
            "Average loss on the 10000 test images: 1.327\n",
            "TESTING:\n",
            "Accuracy of the network on the 10000 test images: 59.26 %\n",
            "Average loss on the 10000 test images: 1.148\n",
            "TESTING:\n",
            "Accuracy of the network on the 10000 test images: 59.92 %\n",
            "Average loss on the 10000 test images: 1.136\n",
            "TESTING:\n",
            "Accuracy of the network on the 10000 test images: 60.38 %\n",
            "Average loss on the 10000 test images: 1.119\n",
            "TESTING:\n",
            "Accuracy of the network on the 10000 test images: 61.18 %\n",
            "Average loss on the 10000 test images: 1.120\n",
            "TESTING:\n",
            "Accuracy of the network on the 10000 test images: 60.99 %\n",
            "Average loss on the 10000 test images: 1.108\n",
            "TESTING:\n",
            "Accuracy of the network on the 10000 test images: 61.58 %\n",
            "Average loss on the 10000 test images: 1.097\n",
            "TESTING:\n",
            "Accuracy of the network on the 10000 test images: 61.98 %\n",
            "Average loss on the 10000 test images: 1.087\n",
            "TESTING:\n",
            "Accuracy of the network on the 10000 test images: 62.07 %\n",
            "Average loss on the 10000 test images: 1.108\n",
            "TESTING:\n",
            "Accuracy of the network on the 10000 test images: 61.72 %\n",
            "Average loss on the 10000 test images: 1.097\n",
            "TESTING:\n",
            "Accuracy of the network on the 10000 test images: 62.25 %\n",
            "Average loss on the 10000 test images: 1.083\n",
            "maximum accuracy is:  62.25\n",
            "minimum loss is:  tensor(1.0830, device='cuda:0')\n",
            "Finished Training\n"
          ]
        }
      ]
    },
    {
      "cell_type": "code",
      "source": [
        "\n"
      ],
      "metadata": {
        "id": "XsU1KomsJaN5"
      },
      "execution_count": null,
      "outputs": []
    },
    {
      "cell_type": "markdown",
      "source": [
        "**supervised CIFAR10 model**:\n",
        "we used Randomly initialize a ResNet18 model and re-train the whole model on the classification task. with out using pretrain model."
      ],
      "metadata": {
        "id": "s_IxZPJEZ4-x"
      }
    },
    {
      "cell_type": "code",
      "source": [
        "# 20 sunset of data \n",
        "\n",
        "trainset = CIFAR10Rotation(root='/content/drive/MyDrive/exam/cifar-10-batches-py',\n",
        "                           train=True, download=True, transform=transform_train)\n",
        "subset_indices = [ i for i in range(20)] # indices of the subset of data you want to use\n",
        "subset_dataset = Subset(trainset, subset_indices)\n",
        "\n",
        "trainloader = torch.utils.data.DataLoader(subset_dataset, batch_size=batch_size,\n",
        "                                          shuffle=True, num_workers=2)\n"
      ],
      "metadata": {
        "colab": {
          "base_uri": "https://localhost:8080/"
        },
        "id": "YhSzrrj1dtpp",
        "outputId": "b0982205-77e0-4dac-ea6d-4a9367a37f64"
      },
      "execution_count": 55,
      "outputs": [
        {
          "output_type": "stream",
          "name": "stdout",
          "text": [
            "Files already downloaded and verified\n"
          ]
        }
      ]
    },
    {
      "cell_type": "code",
      "source": [
        "# Both the self-supervised rotation task and supervised CIFAR10 classification are\n",
        "# trained with the CrossEntropyLoss, so we can use the training loop code.\n",
        "\n",
        "def train(net, criterion, optimizer, num_epochs, decay_epochs, init_lr, task):\n",
        "    device = torch.device(\"cuda\" if torch.cuda.is_available() else \"cpu\")\n",
        "    net.to(device)\n",
        "    \n",
        "    for epoch in range(num_epochs):  # loop over the dataset multiple times\n",
        "        acc_tot=[]\n",
        "        loss_tot=[]\n",
        "        running_loss = 0.0\n",
        "        running_correct = 0.0\n",
        "        running_total = 0.0\n",
        "        start_time = time.time()\n",
        "\n",
        "        net.train()\n",
        "\n",
        "        for i, (imgs, imgs_rotated, rotation_label, cls_label) in enumerate(trainloader, 0):\n",
        "            adjust_learning_rate(optimizer, epoch, init_lr, decay_epochs)\n",
        "\n",
        "            # TODO: Set the data to the correct device; Different task will use different inputs and labels\n",
        "            if task == 'rotation':\n",
        "              images, labels = imgs_rotated.to(device), rotation_label.to(device)\n",
        "            elif task == 'classification':\n",
        "                images, labels = imgs.to(device), cls_label.to(device)\n",
        "\n",
        "            # Zero the parameter gradients\n",
        "            optimizer.zero_grad()\n",
        "\n",
        "            # Forward + Backward + Optimize\n",
        "            outputs = net(images)\n",
        "            loss = criterion(outputs, labels)\n",
        "            loss.backward()\n",
        "            optimizer.step()\n",
        "\n",
        "            # Get predicted results\n",
        "            _, predicted = torch.max(outputs.data, 1)\n",
        "\n",
        "            # print statistics\n",
        "            print_freq = 100\n",
        "            running_loss += loss.item()\n",
        "\n",
        "            # calc acc\n",
        "            running_total += labels.size(0)\n",
        "            running_correct += (predicted == labels).sum().item()\n",
        "\n",
        "            if i % print_freq == (print_freq - 1):    # print every 2000 mini-batches\n",
        "                print(f'[{epoch + 1}, {i + 1:5d}] loss: {running_loss / print_freq:.3f} acc: {100*running_correct / running_total:.2f} time: {time.time() - start_time:.2f}')\n",
        "                running_loss, running_correct, running_total = 0.0, 0.0, 0.0\n",
        "                start_time = time.time()\n",
        "\n",
        "        # Run the run_test() function after each epoch; Set the model to the evaluation mode.\n",
        "        net.eval()\n",
        "        acc,loss=run_test(net, testloader, criterion, task)\n",
        "        acc_tot.append(acc)\n",
        "        loss_tot.append(loss)\n",
        "\n",
        "    print('maximum accuracy is: ',max(acc_tot))\n",
        "    print('minimum loss is: ',min(loss_tot))\n",
        "    print('Finished Training')"
      ],
      "metadata": {
        "id": "Fp1uFD-TltId"
      },
      "execution_count": 69,
      "outputs": []
    },
    {
      "cell_type": "code",
      "source": [
        "import torch.optim as optim\n",
        "\n",
        "model = resnet18(pretrained=True)\n",
        "\n",
        "for param in model.parameters():\n",
        "    param.requires_grad = True\n",
        "    if param.dim() > 1:\n",
        "        nn.init.kaiming_uniform_(param)\n",
        "\n",
        "# Define the criterion (loss function)\n",
        "criterion = nn.CrossEntropyLoss()\n",
        "# Define the optimizer; Update all the parameters\n",
        "optimizer = optim.SGD(model.parameters(), lr=0.001, momentum=0.9)\n",
        "\n",
        "train(model, criterion, optimizer, num_epochs=20, decay_epochs=10, init_lr=0.01,\n",
        "      task='classification')"
      ],
      "metadata": {
        "colab": {
          "base_uri": "https://localhost:8080/"
        },
        "id": "E5OAbwR8mLX9",
        "outputId": "a91c5e64-a94c-4be0-9bb1-938cfe374db3"
      },
      "execution_count": 58,
      "outputs": [
        {
          "output_type": "stream",
          "name": "stderr",
          "text": [
            "/usr/local/lib/python3.9/dist-packages/torchvision/models/_utils.py:208: UserWarning: The parameter 'pretrained' is deprecated since 0.13 and may be removed in the future, please use 'weights' instead.\n",
            "  warnings.warn(\n",
            "/usr/local/lib/python3.9/dist-packages/torchvision/models/_utils.py:223: UserWarning: Arguments other than a weight enum or `None` for 'weights' are deprecated since 0.13 and may be removed in the future. The current behavior is equivalent to passing `weights=ResNet18_Weights.IMAGENET1K_V1`. You can also use `weights=ResNet18_Weights.DEFAULT` to get the most up-to-date weights.\n",
            "  warnings.warn(msg)\n",
            "Downloading: \"https://download.pytorch.org/models/resnet18-f37072fd.pth\" to /root/.cache/torch/hub/checkpoints/resnet18-f37072fd.pth\n",
            "100%|██████████| 44.7M/44.7M [00:00<00:00, 113MB/s]\n"
          ]
        },
        {
          "output_type": "stream",
          "name": "stdout",
          "text": [
            "TESTING:\n",
            "Accuracy of the network on the 10000 test images: 0.06 %\n",
            "Average loss on the 10000 test images: 131.694\n",
            "TESTING:\n",
            "Accuracy of the network on the 10000 test images: 10.00 %\n",
            "Average loss on the 10000 test images: 1932.524\n",
            "TESTING:\n",
            "Accuracy of the network on the 10000 test images: 10.00 %\n",
            "Average loss on the 10000 test images: 20701.877\n",
            "TESTING:\n",
            "Accuracy of the network on the 10000 test images: 10.00 %\n",
            "Average loss on the 10000 test images: 121953.141\n",
            "TESTING:\n",
            "Accuracy of the network on the 10000 test images: 10.00 %\n",
            "Average loss on the 10000 test images: 331983.219\n",
            "TESTING:\n",
            "Accuracy of the network on the 10000 test images: 10.00 %\n",
            "Average loss on the 10000 test images: 537380.000\n",
            "TESTING:\n",
            "Accuracy of the network on the 10000 test images: 10.00 %\n",
            "Average loss on the 10000 test images: 626412.125\n",
            "TESTING:\n",
            "Accuracy of the network on the 10000 test images: 10.00 %\n",
            "Average loss on the 10000 test images: 563704.625\n",
            "TESTING:\n",
            "Accuracy of the network on the 10000 test images: 10.00 %\n",
            "Average loss on the 10000 test images: 457269.969\n",
            "TESTING:\n",
            "Accuracy of the network on the 10000 test images: 10.00 %\n",
            "Average loss on the 10000 test images: 342794.625\n",
            "TESTING:\n",
            "Accuracy of the network on the 10000 test images: 10.00 %\n",
            "Average loss on the 10000 test images: 128354.164\n",
            "TESTING:\n",
            "Accuracy of the network on the 10000 test images: 10.00 %\n",
            "Average loss on the 10000 test images: 47734.031\n",
            "TESTING:\n",
            "Accuracy of the network on the 10000 test images: 10.00 %\n",
            "Average loss on the 10000 test images: 22926.707\n",
            "TESTING:\n",
            "Accuracy of the network on the 10000 test images: 10.00 %\n",
            "Average loss on the 10000 test images: 13300.649\n",
            "TESTING:\n",
            "Accuracy of the network on the 10000 test images: 10.01 %\n",
            "Average loss on the 10000 test images: 7629.947\n",
            "TESTING:\n",
            "Accuracy of the network on the 10000 test images: 10.11 %\n",
            "Average loss on the 10000 test images: 4676.500\n",
            "TESTING:\n",
            "Accuracy of the network on the 10000 test images: 10.36 %\n",
            "Average loss on the 10000 test images: 3244.611\n",
            "TESTING:\n",
            "Accuracy of the network on the 10000 test images: 10.44 %\n",
            "Average loss on the 10000 test images: 2342.648\n",
            "TESTING:\n",
            "Accuracy of the network on the 10000 test images: 10.59 %\n",
            "Average loss on the 10000 test images: 1623.202\n",
            "TESTING:\n",
            "Accuracy of the network on the 10000 test images: 10.74 %\n",
            "Average loss on the 10000 test images: 1156.143\n",
            "maximum accuracy is:  10.74\n",
            "minimum loss is:  tensor(1156.1428, device='cuda:0')\n",
            "Finished Training\n"
          ]
        }
      ]
    },
    {
      "cell_type": "code",
      "source": [
        "# 100 sunset of data \n",
        "\n",
        "trainset = CIFAR10Rotation(root='/content/drive/MyDrive/exam/cifar-10-batches-py', \n",
        "                           train=True,\n",
        "                                        download=True, transform=transform_train)\n",
        "subset_indices = [ i for i in range(100)] # indices of the subset of data you want to use\n",
        "subset_dataset = Subset(trainset, subset_indices)\n",
        "\n",
        "trainloader = torch.utils.data.DataLoader(subset_dataset, batch_size=batch_size,\n",
        "                                          shuffle=True, num_workers=2)\n"
      ],
      "metadata": {
        "colab": {
          "base_uri": "https://localhost:8080/"
        },
        "id": "i6rfopPjdvKv",
        "outputId": "02d7489b-c52d-476d-b9e9-06ac8c5c4f02"
      },
      "execution_count": 59,
      "outputs": [
        {
          "output_type": "stream",
          "name": "stdout",
          "text": [
            "Files already downloaded and verified\n"
          ]
        }
      ]
    },
    {
      "cell_type": "code",
      "source": [
        "train(model, criterion, optimizer, num_epochs=20, decay_epochs=10, init_lr=0.01, \n",
        "      task='classification')"
      ],
      "metadata": {
        "colab": {
          "base_uri": "https://localhost:8080/"
        },
        "id": "uDYENmBumPO-",
        "outputId": "92428c25-281b-4a43-e9f5-dff3289f4060"
      },
      "execution_count": 61,
      "outputs": [
        {
          "output_type": "stream",
          "name": "stdout",
          "text": [
            "TESTING:\n",
            "Accuracy of the network on the 10000 test images: 13.53 %\n",
            "Average loss on the 10000 test images: 1261.699\n",
            "TESTING:\n",
            "Accuracy of the network on the 10000 test images: 10.54 %\n",
            "Average loss on the 10000 test images: 1165.566\n",
            "TESTING:\n",
            "Accuracy of the network on the 10000 test images: 10.55 %\n",
            "Average loss on the 10000 test images: 1009.055\n",
            "TESTING:\n",
            "Accuracy of the network on the 10000 test images: 10.60 %\n",
            "Average loss on the 10000 test images: 766.339\n",
            "TESTING:\n",
            "Accuracy of the network on the 10000 test images: 10.64 %\n",
            "Average loss on the 10000 test images: 485.244\n",
            "TESTING:\n",
            "Accuracy of the network on the 10000 test images: 11.01 %\n",
            "Average loss on the 10000 test images: 259.080\n",
            "TESTING:\n",
            "Accuracy of the network on the 10000 test images: 10.61 %\n",
            "Average loss on the 10000 test images: 189.934\n",
            "TESTING:\n",
            "Accuracy of the network on the 10000 test images: 10.59 %\n",
            "Average loss on the 10000 test images: 169.178\n",
            "TESTING:\n",
            "Accuracy of the network on the 10000 test images: 9.26 %\n",
            "Average loss on the 10000 test images: 135.493\n",
            "TESTING:\n",
            "Accuracy of the network on the 10000 test images: 12.51 %\n",
            "Average loss on the 10000 test images: 94.759\n",
            "TESTING:\n",
            "Accuracy of the network on the 10000 test images: 12.69 %\n",
            "Average loss on the 10000 test images: 68.601\n",
            "TESTING:\n",
            "Accuracy of the network on the 10000 test images: 12.84 %\n",
            "Average loss on the 10000 test images: 51.485\n",
            "TESTING:\n",
            "Accuracy of the network on the 10000 test images: 12.57 %\n",
            "Average loss on the 10000 test images: 36.744\n",
            "TESTING:\n",
            "Accuracy of the network on the 10000 test images: 12.52 %\n",
            "Average loss on the 10000 test images: 26.666\n",
            "TESTING:\n",
            "Accuracy of the network on the 10000 test images: 12.20 %\n",
            "Average loss on the 10000 test images: 19.957\n",
            "TESTING:\n",
            "Accuracy of the network on the 10000 test images: 12.41 %\n",
            "Average loss on the 10000 test images: 15.905\n",
            "TESTING:\n",
            "Accuracy of the network on the 10000 test images: 12.34 %\n",
            "Average loss on the 10000 test images: 13.046\n",
            "TESTING:\n",
            "Accuracy of the network on the 10000 test images: 12.81 %\n",
            "Average loss on the 10000 test images: 10.613\n",
            "TESTING:\n",
            "Accuracy of the network on the 10000 test images: 13.22 %\n",
            "Average loss on the 10000 test images: 9.499\n",
            "TESTING:\n",
            "Accuracy of the network on the 10000 test images: 13.25 %\n",
            "Average loss on the 10000 test images: 8.969\n",
            "maximum accuracy is:  13.25\n",
            "minimum loss is:  tensor(8.9691, device='cuda:0')\n",
            "Finished Training\n"
          ]
        }
      ]
    },
    {
      "cell_type": "code",
      "source": [
        "# 400 sunset of data \n",
        "\n",
        "trainset = CIFAR10Rotation(root='/content/drive/MyDrive/exam/cifar-10-batches-py', \n",
        "                           train=True,\n",
        "                                        download=True, transform=transform_train)\n",
        "subset_indices = [ i for i in range(400)] # indices of the subset of data you want to use\n",
        "subset_dataset = Subset(trainset, subset_indices)\n",
        "\n",
        "trainloader = torch.utils.data.DataLoader(subset_dataset, batch_size=batch_size,\n",
        "                                          shuffle=True, num_workers=2)"
      ],
      "metadata": {
        "colab": {
          "base_uri": "https://localhost:8080/"
        },
        "id": "ZTul284Xdzof",
        "outputId": "6295d8a5-752f-4112-8f9a-08d43fe944a4"
      },
      "execution_count": 62,
      "outputs": [
        {
          "output_type": "stream",
          "name": "stdout",
          "text": [
            "Files already downloaded and verified\n"
          ]
        }
      ]
    },
    {
      "cell_type": "code",
      "source": [
        "train(model, criterion, optimizer, num_epochs=20, decay_epochs=10, init_lr=0.01, \n",
        "      task='classification')"
      ],
      "metadata": {
        "colab": {
          "base_uri": "https://localhost:8080/"
        },
        "id": "SzJbNmJomQIQ",
        "outputId": "b8d8b8b9-b6ac-48c1-a8c6-a433adc99bde"
      },
      "execution_count": 64,
      "outputs": [
        {
          "output_type": "stream",
          "name": "stdout",
          "text": [
            "TESTING:\n",
            "Accuracy of the network on the 10000 test images: 10.93 %\n",
            "Average loss on the 10000 test images: 6.020\n",
            "TESTING:\n",
            "Accuracy of the network on the 10000 test images: 11.77 %\n",
            "Average loss on the 10000 test images: 4.179\n",
            "TESTING:\n",
            "Accuracy of the network on the 10000 test images: 10.08 %\n",
            "Average loss on the 10000 test images: 3.284\n",
            "TESTING:\n",
            "Accuracy of the network on the 10000 test images: 10.09 %\n",
            "Average loss on the 10000 test images: 2.801\n",
            "TESTING:\n",
            "Accuracy of the network on the 10000 test images: 10.99 %\n",
            "Average loss on the 10000 test images: 2.904\n",
            "TESTING:\n",
            "Accuracy of the network on the 10000 test images: 10.00 %\n",
            "Average loss on the 10000 test images: 2.995\n",
            "TESTING:\n",
            "Accuracy of the network on the 10000 test images: 12.22 %\n",
            "Average loss on the 10000 test images: 2.948\n",
            "TESTING:\n",
            "Accuracy of the network on the 10000 test images: 11.05 %\n",
            "Average loss on the 10000 test images: 3.327\n",
            "TESTING:\n",
            "Accuracy of the network on the 10000 test images: 10.39 %\n",
            "Average loss on the 10000 test images: 2.848\n",
            "TESTING:\n",
            "Accuracy of the network on the 10000 test images: 9.59 %\n",
            "Average loss on the 10000 test images: 4.799\n",
            "TESTING:\n",
            "Accuracy of the network on the 10000 test images: 10.96 %\n",
            "Average loss on the 10000 test images: 4.179\n",
            "TESTING:\n",
            "Accuracy of the network on the 10000 test images: 11.13 %\n",
            "Average loss on the 10000 test images: 3.519\n",
            "TESTING:\n",
            "Accuracy of the network on the 10000 test images: 10.94 %\n",
            "Average loss on the 10000 test images: 3.145\n",
            "TESTING:\n",
            "Accuracy of the network on the 10000 test images: 10.70 %\n",
            "Average loss on the 10000 test images: 2.996\n",
            "TESTING:\n",
            "Accuracy of the network on the 10000 test images: 10.82 %\n",
            "Average loss on the 10000 test images: 2.911\n",
            "TESTING:\n",
            "Accuracy of the network on the 10000 test images: 10.79 %\n",
            "Average loss on the 10000 test images: 2.768\n",
            "TESTING:\n",
            "Accuracy of the network on the 10000 test images: 10.79 %\n",
            "Average loss on the 10000 test images: 2.669\n",
            "TESTING:\n",
            "Accuracy of the network on the 10000 test images: 11.09 %\n",
            "Average loss on the 10000 test images: 2.637\n",
            "TESTING:\n",
            "Accuracy of the network on the 10000 test images: 11.23 %\n",
            "Average loss on the 10000 test images: 2.715\n",
            "TESTING:\n",
            "Accuracy of the network on the 10000 test images: 11.40 %\n",
            "Average loss on the 10000 test images: 2.666\n",
            "maximum accuracy is:  11.4\n",
            "minimum loss is:  tensor(2.6664, device='cuda:0')\n",
            "Finished Training\n"
          ]
        }
      ]
    },
    {
      "cell_type": "code",
      "source": [
        "# 1000 sunset of data \n",
        "\n",
        "trainset = CIFAR10Rotation(root='/content/drive/MyDrive/exam/cifar-10-batches-py',\n",
        "                           train=True,\n",
        "                                        download=True, transform=transform_train)\n",
        "subset_indices = [ i for i in range(1000)] # indices of the subset of data you want to use\n",
        "subset_dataset = Subset(trainset, subset_indices)\n",
        "\n",
        "trainloader = torch.utils.data.DataLoader(subset_dataset, batch_size=batch_size,\n",
        "                                          shuffle=True, num_workers=2)"
      ],
      "metadata": {
        "colab": {
          "base_uri": "https://localhost:8080/"
        },
        "id": "Gg1aBVk3d2e4",
        "outputId": "86bc67e6-d3c6-4b8a-c148-04ee3747105d"
      },
      "execution_count": 67,
      "outputs": [
        {
          "output_type": "stream",
          "name": "stdout",
          "text": [
            "Files already downloaded and verified\n"
          ]
        }
      ]
    },
    {
      "cell_type": "code",
      "source": [
        "train(model, criterion, optimizer, num_epochs=20, decay_epochs=10, init_lr=0.01, \n",
        "      task='classification')"
      ],
      "metadata": {
        "colab": {
          "base_uri": "https://localhost:8080/"
        },
        "id": "QHa_BJJ_mSXz",
        "outputId": "4dfaa5b5-8940-4033-8c6f-9363037a1d65"
      },
      "execution_count": null,
      "outputs": [
        {
          "output_type": "stream",
          "name": "stdout",
          "text": [
            "TESTING:\n",
            "Accuracy of the network on the 10000 test images: 36.60 %\n",
            "Average loss on the 10000 test images: 1.781\n",
            "TESTING:\n",
            "Accuracy of the network on the 10000 test images: 37.02 %\n",
            "Average loss on the 10000 test images: 1.660\n",
            "TESTING:\n",
            "Accuracy of the network on the 10000 test images: 39.04 %\n",
            "Average loss on the 10000 test images: 1.636\n",
            "TESTING:\n",
            "Accuracy of the network on the 10000 test images: 40.19 %\n",
            "Average loss on the 10000 test images: 1.631\n",
            "TESTING:\n",
            "Accuracy of the network on the 10000 test images: 40.70 %\n",
            "Average loss on the 10000 test images: 1.608\n",
            "TESTING:\n",
            "Accuracy of the network on the 10000 test images: 39.61 %\n",
            "Average loss on the 10000 test images: 1.651\n",
            "TESTING:\n",
            "Accuracy of the network on the 10000 test images: 41.02 %\n",
            "Average loss on the 10000 test images: 1.606\n",
            "TESTING:\n",
            "Accuracy of the network on the 10000 test images: 40.58 %\n",
            "Average loss on the 10000 test images: 1.672\n",
            "TESTING:\n",
            "Accuracy of the network on the 10000 test images: 42.38 %\n",
            "Average loss on the 10000 test images: 1.607\n",
            "TESTING:\n",
            "Accuracy of the network on the 10000 test images: 41.38 %\n",
            "Average loss on the 10000 test images: 1.634\n",
            "TESTING:\n",
            "Accuracy of the network on the 10000 test images: 42.91 %\n",
            "Average loss on the 10000 test images: 1.608\n",
            "TESTING:\n",
            "Accuracy of the network on the 10000 test images: 43.84 %\n",
            "Average loss on the 10000 test images: 1.593\n",
            "TESTING:\n",
            "Accuracy of the network on the 10000 test images: 43.96 %\n",
            "Average loss on the 10000 test images: 1.585\n",
            "TESTING:\n",
            "Accuracy of the network on the 10000 test images: 43.79 %\n",
            "Average loss on the 10000 test images: 1.585\n",
            "TESTING:\n",
            "Accuracy of the network on the 10000 test images: 43.61 %\n",
            "Average loss on the 10000 test images: 1.588\n",
            "TESTING:\n",
            "Accuracy of the network on the 10000 test images: 44.13 %\n",
            "Average loss on the 10000 test images: 1.586\n",
            "TESTING:\n",
            "Accuracy of the network on the 10000 test images: 44.53 %\n",
            "Average loss on the 10000 test images: 1.581\n",
            "TESTING:\n",
            "Accuracy of the network on the 10000 test images: 44.40 %\n",
            "Average loss on the 10000 test images: 1.581\n",
            "TESTING:\n",
            "Accuracy of the network on the 10000 test images: 44.42 %\n",
            "Average loss on the 10000 test images: 1.580\n",
            "TESTING:\n",
            "Accuracy of the network on the 10000 test images: 44.11 %\n",
            "Average loss on the 10000 test images: 1.575\n",
            "maximum accuracy is:  44.11\n",
            "minimum loss is:  tensor(1.5746, device='cuda:0')\n",
            "Finished Training\n"
          ]
        }
      ]
    },
    {
      "cell_type": "code",
      "source": [
        "# 5000 sunset of data \n",
        "\n",
        "trainset = CIFAR10Rotation(root='/content/drive/MyDrive/exam/cifar-10-batches-py',\n",
        "                           train=True,\n",
        "                                        download=True, transform=transform_train)\n",
        "subset_indices = [ i for i in range(5000)] # indices of the subset of data you want to use\n",
        "subset_dataset = Subset(trainset, subset_indices)\n",
        "\n",
        "trainloader = torch.utils.data.DataLoader(subset_dataset, batch_size=batch_size,\n",
        "                                          shuffle=True, num_workers=2)"
      ],
      "metadata": {
        "colab": {
          "base_uri": "https://localhost:8080/"
        },
        "id": "o7blIOzYd9qI",
        "outputId": "e7bbf878-71e1-4f63-b488-45f8a8801851"
      },
      "execution_count": 68,
      "outputs": [
        {
          "output_type": "stream",
          "name": "stdout",
          "text": [
            "Files already downloaded and verified\n"
          ]
        }
      ]
    },
    {
      "cell_type": "code",
      "source": [
        "train(model, criterion, optimizer, num_epochs=20, decay_epochs=10, init_lr=0.01,\n",
        "      task='classification')"
      ],
      "metadata": {
        "colab": {
          "base_uri": "https://localhost:8080/"
        },
        "id": "DOrOLvc8mTH6",
        "outputId": "e9cd02a6-64c1-4909-a029-0d0c7da02c03"
      },
      "execution_count": 70,
      "outputs": [
        {
          "output_type": "stream",
          "name": "stdout",
          "text": [
            "TESTING:\n",
            "Accuracy of the network on the 10000 test images: 13.30 %\n",
            "Average loss on the 10000 test images: 3.064\n",
            "TESTING:\n",
            "Accuracy of the network on the 10000 test images: 13.74 %\n",
            "Average loss on the 10000 test images: 2.371\n",
            "TESTING:\n",
            "Accuracy of the network on the 10000 test images: 16.06 %\n",
            "Average loss on the 10000 test images: 2.844\n",
            "TESTING:\n",
            "Accuracy of the network on the 10000 test images: 20.10 %\n",
            "Average loss on the 10000 test images: 2.770\n",
            "TESTING:\n",
            "Accuracy of the network on the 10000 test images: 17.84 %\n",
            "Average loss on the 10000 test images: 2.471\n",
            "TESTING:\n",
            "Accuracy of the network on the 10000 test images: 20.18 %\n",
            "Average loss on the 10000 test images: 2.357\n",
            "TESTING:\n",
            "Accuracy of the network on the 10000 test images: 20.93 %\n",
            "Average loss on the 10000 test images: 2.798\n",
            "TESTING:\n",
            "Accuracy of the network on the 10000 test images: 21.08 %\n",
            "Average loss on the 10000 test images: 3.867\n",
            "TESTING:\n",
            "Accuracy of the network on the 10000 test images: 21.29 %\n",
            "Average loss on the 10000 test images: 2.125\n",
            "TESTING:\n",
            "Accuracy of the network on the 10000 test images: 21.13 %\n",
            "Average loss on the 10000 test images: 2.773\n",
            "TESTING:\n",
            "Accuracy of the network on the 10000 test images: 24.41 %\n",
            "Average loss on the 10000 test images: 2.326\n",
            "TESTING:\n",
            "Accuracy of the network on the 10000 test images: 25.84 %\n",
            "Average loss on the 10000 test images: 2.075\n",
            "TESTING:\n",
            "Accuracy of the network on the 10000 test images: 26.23 %\n",
            "Average loss on the 10000 test images: 2.088\n",
            "TESTING:\n",
            "Accuracy of the network on the 10000 test images: 27.25 %\n",
            "Average loss on the 10000 test images: 1.979\n",
            "TESTING:\n",
            "Accuracy of the network on the 10000 test images: 28.38 %\n",
            "Average loss on the 10000 test images: 1.976\n",
            "TESTING:\n",
            "Accuracy of the network on the 10000 test images: 28.59 %\n",
            "Average loss on the 10000 test images: 1.921\n",
            "TESTING:\n",
            "Accuracy of the network on the 10000 test images: 28.85 %\n",
            "Average loss on the 10000 test images: 1.896\n",
            "TESTING:\n",
            "Accuracy of the network on the 10000 test images: 29.09 %\n",
            "Average loss on the 10000 test images: 1.940\n",
            "TESTING:\n",
            "Accuracy of the network on the 10000 test images: 30.11 %\n",
            "Average loss on the 10000 test images: 1.851\n",
            "TESTING:\n",
            "Accuracy of the network on the 10000 test images: 29.78 %\n",
            "Average loss on the 10000 test images: 1.864\n",
            "maximum accuracy is:  29.78\n",
            "minimum loss is:  tensor(1.8639, device='cuda:0')\n",
            "Finished Training\n"
          ]
        }
      ]
    },
    {
      "cell_type": "markdown",
      "source": [
        "**plotting on one subset:**"
      ],
      "metadata": {
        "id": "GPnDxexcIv7B"
      }
    },
    {
      "cell_type": "markdown",
      "source": [
        "**Comparing of pretained ResNet18 model and randomly intialized ResNet18 model**"
      ],
      "metadata": {
        "id": "ayhBM9aNFhk_"
      }
    },
    {
      "cell_type": "code",
      "source": [
        "import matplotlib.pyplot as plt\n",
        "epochs_Rotation  = [1, 2, 3, 4, 5, 6, 7, 8, 9, 10, 11, 12, 13, 14, 15, 16, 17, 18, 19, 20]\n",
        "accuracy_Rotation = [53.66,56.89,58.31,59.93 ,60.96,61.64 ,62.85,61.96,62.43,63.63,65.16,65.28,65.41,65.44,65.70,65.88,65.65,65.53,66.30,66.07]\n",
        "\n",
        "epochs_Randomly = [1, 2, 3, 4, 5, 6, 7, 8, 9, 10, 11, 12, 13, 14, 15, 16, 17, 18, 19, 20]\n",
        "accuracy_Randomly = [59.12,63.68,65.07,66.13,67.05, 66.98 ,67.45,68.02 ,68.67,68.30,70.30,70.61,70.44,70.50,70.83,70.56,70.83,70.92 ,70.82,70.75]\n",
        "\n",
        "plt.plot(epochs_Rotation, accuracy_Rotation, label='pre-trained ResNet18 model')\n",
        "plt.plot(epochs_Randomly, accuracy_Randomly, label='Randomly initialize ResNet18 model')\n",
        "plt.title('Comparing of pretained model and randomly intialized model')\n",
        "plt.xlabel('Epochs')\n",
        "plt.ylabel('Test Accuracy')\n",
        "plt.legend()\n",
        "plt.show()"
      ],
      "metadata": {
        "id": "IUk7FQzXmk5d",
        "colab": {
          "base_uri": "https://localhost:8080/",
          "height": 472
        },
        "outputId": "150ab4d6-15d8-44db-feca-aadf32011777"
      },
      "execution_count": 75,
      "outputs": [
        {
          "output_type": "display_data",
          "data": {
            "text/plain": [
              "<Figure size 640x480 with 1 Axes>"
            ],
            "image/png": "[encoded data removed]"
          },
          "metadata": {}
        }
      ]
    },
    {
      "cell_type": "markdown",
      "source": [
        "**Comparing of pretained model and randomly intialized model in supervised model**"
      ],
      "metadata": {
        "id": "s41l6Jw5Jb7D"
      }
    },
    {
      "cell_type": "code",
      "source": [
        "epochs_Rotation = [1, 2, 3, 4, 5, 6, 7, 8, 9, 10, 11, 12, 13, 14, 15, 16, 17, 18, 19, 20]\n",
        "accuracy_rotation = [50.36,59.12,64.12,69.33,69.38,72.77,72.47 ,74.76,75.53,76.80,79.54,79.88 ,80.18 ,80.44,80.23,80.51,80.66 ,80.50,80.79,80.38]\n",
        "\n",
        "\n",
        "epochs_randomly = [1, 2, 3, 4, 5, 6, 7, 8, 9, 10, 11, 12, 13, 14, 15, 16, 17, 18, 19, 20]\n",
        "accuracy_randomly = [49.51,56.73,62.05,64.95,63.90, 67.63,70.89,71.84,72.37,73.73,76.56,77.24,77.13 ,77.19,77.49,77.36, 77.30,77.15,77.92,77.83]\n",
        "\n",
        "plt.plot(epochs_Rotation, accuracy_rotation, label='Pretrained model')\n",
        "plt.plot(epochs_randomly,accuracy_randomly , label='the randomly initialized model')\n",
        "plt.title('Comparing of Supervised training on the pretained ResNet18  model and randomly intialized ResNet18 model')\n",
        "plt.xlabel('Epochs')\n",
        "plt.ylabel('Test Accuracy')\n",
        "plt.legend()\n",
        "plt.show()"
      ],
      "metadata": {
        "colab": {
          "base_uri": "https://localhost:8080/",
          "height": 413
        },
        "id": "aT8u_ptaFbnG",
        "outputId": "15ec36d2-3c2b-4e1d-908e-f17b1228b003"
      },
      "execution_count": 76,
      "outputs": [
        {
          "output_type": "display_data",
          "data": {
            "text/plain": [
              "<Figure size 640x480 with 1 Axes>"
            ],
            "image/png": "[encoded data removed]"
          },
          "metadata": {}
        }
      ]
    },
    {
      "cell_type": "markdown",
      "source": [
        "****plotting on the numbers of subset:****"
      ],
      "metadata": {
        "id": "DZ9BNmrdmlS3"
      }
    },
    {
      "cell_type": "code",
      "source": [
        "import matplotlib.pyplot as plt\n",
        "\n",
        "x=[20,200,500,1000,5000]\n",
        "Rotnet_accuracy=[16.47,17.61,34.11,49.28,62.25]\n",
        "supervised_accuracy=[10.1,13.20,12.26,48.53,61.61]\n",
        "\n",
        "plt.grid()\n",
        "plt.plot(x,Rotnet_accuracy)\n",
        "plt.plot(x,supervised_accuracy)\n",
        "\n",
        "plt.xlabel('Training Examples')\n",
        "plt.ylabel('Test Accuracy')\n",
        "\n",
        "plt.xlim(20, 5000)\n",
        "plt.xticks(x,fontsize=8)\n",
        "\n",
        "plt.legend(['Rotnet accuracy','supervised accuracy'],loc='best')\n",
        "\n",
        "plt.show()"
      ],
      "metadata": {
        "colab": {
          "base_uri": "https://localhost:8080/",
          "height": 445
        },
        "id": "UZ8Bxadu8aUT",
        "outputId": "3abeca33-8a6f-4dbf-cf69-3d388e416a3a"
      },
      "execution_count": 73,
      "outputs": [
        {
          "output_type": "display_data",
          "data": {
            "text/plain": [
              "<Figure size 640x480 with 1 Axes>"
            ],
            "image/png": "[encoded data removed]"
          },
          "metadata": {}
        }
      ]
    }
  ],
  "metadata": {
    "accelerator": "GPU",
    "colab": {
      "provenance": []
    },
    "gpuClass": "standard",
    "kernelspec": {
      "display_name": "Python 3",
      "language": "python",
      "name": "python3"
    },
    "language_info": {
      "codemirror_mode": {
        "name": "ipython",
        "version": 3
      },
      "file_extension": ".py",
      "mimetype": "text/x-python",
      "name": "python",
      "nbconvert_exporter": "python",
      "pygments_lexer": "ipython3",
      "version": "3.7.4"
    }
  },
  "nbformat": 4,
  "nbformat_minor": 0
}